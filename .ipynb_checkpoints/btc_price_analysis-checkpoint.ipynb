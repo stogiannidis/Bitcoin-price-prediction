{
 "cells": [
  {
   "cell_type": "markdown",
   "metadata": {},
   "source": [
    "# Bitcoin Price Analysis \n",
    "\n",
    "> Diamantopoulos - Pantaleon Odyssefs p3180049 <br/>\n",
    "> Stogiannidis Ilias - Marios p3180178  <br />\n",
    "> Department of Informatics  <br />\n",
    "> Athens University of Economics and Business  <br />\n",
    "> p3180178@aueb.gr"
   ]
  },
  {
   "cell_type": "markdown",
   "metadata": {},
   "source": [
    "# Importing the Data"
   ]
  },
  {
   "cell_type": "code",
   "execution_count": 215,
   "metadata": {},
   "outputs": [],
   "source": [
    "import pandas as pd\n",
    "import numpy as np\n",
    "import seaborn as sns\n",
    "import matplotlib.pyplot as plt\n",
    "from matplotlib.dates import YearLocator, DateFormatter\n",
    "import warnings\n",
    "warnings.filterwarnings(\"ignore\")\n",
    "\n",
    "btc_data = pd.read_csv(\"BTC-USDv2.csv\")\n",
    "btc_data['Date'] = pd.to_datetime(btc_data['Date']) # Convert to datetime"
   ]
  },
  {
   "cell_type": "code",
   "execution_count": 216,
   "metadata": {
    "scrolled": false
   },
   "outputs": [
    {
     "data": {
      "text/html": [
       "<div>\n",
       "<style scoped>\n",
       "    .dataframe tbody tr th:only-of-type {\n",
       "        vertical-align: middle;\n",
       "    }\n",
       "\n",
       "    .dataframe tbody tr th {\n",
       "        vertical-align: top;\n",
       "    }\n",
       "\n",
       "    .dataframe thead th {\n",
       "        text-align: right;\n",
       "    }\n",
       "</style>\n",
       "<table border=\"1\" class=\"dataframe\">\n",
       "  <thead>\n",
       "    <tr style=\"text-align: right;\">\n",
       "      <th></th>\n",
       "      <th>Date</th>\n",
       "      <th>Open</th>\n",
       "      <th>High</th>\n",
       "      <th>Low</th>\n",
       "      <th>Close</th>\n",
       "      <th>Adj Close</th>\n",
       "      <th>Volume</th>\n",
       "    </tr>\n",
       "  </thead>\n",
       "  <tbody>\n",
       "    <tr>\n",
       "      <th>0</th>\n",
       "      <td>2017-11-09</td>\n",
       "      <td>7446.830078</td>\n",
       "      <td>7446.830078</td>\n",
       "      <td>7101.520020</td>\n",
       "      <td>7143.580078</td>\n",
       "      <td>7143.580078</td>\n",
       "      <td>3226249984</td>\n",
       "    </tr>\n",
       "    <tr>\n",
       "      <th>1</th>\n",
       "      <td>2017-11-10</td>\n",
       "      <td>7173.729980</td>\n",
       "      <td>7312.000000</td>\n",
       "      <td>6436.870117</td>\n",
       "      <td>6618.140137</td>\n",
       "      <td>6618.140137</td>\n",
       "      <td>5208249856</td>\n",
       "    </tr>\n",
       "    <tr>\n",
       "      <th>2</th>\n",
       "      <td>2017-11-11</td>\n",
       "      <td>6618.609863</td>\n",
       "      <td>6873.149902</td>\n",
       "      <td>6204.220215</td>\n",
       "      <td>6357.600098</td>\n",
       "      <td>6357.600098</td>\n",
       "      <td>4908680192</td>\n",
       "    </tr>\n",
       "    <tr>\n",
       "      <th>3</th>\n",
       "      <td>2017-11-12</td>\n",
       "      <td>6295.450195</td>\n",
       "      <td>6625.049805</td>\n",
       "      <td>5519.009766</td>\n",
       "      <td>5950.069824</td>\n",
       "      <td>5950.069824</td>\n",
       "      <td>8957349888</td>\n",
       "    </tr>\n",
       "    <tr>\n",
       "      <th>4</th>\n",
       "      <td>2017-11-13</td>\n",
       "      <td>5938.250000</td>\n",
       "      <td>6811.189941</td>\n",
       "      <td>5844.290039</td>\n",
       "      <td>6559.490234</td>\n",
       "      <td>6559.490234</td>\n",
       "      <td>6263249920</td>\n",
       "    </tr>\n",
       "  </tbody>\n",
       "</table>\n",
       "</div>"
      ],
      "text/plain": [
       "        Date         Open         High          Low        Close    Adj Close  \\\n",
       "0 2017-11-09  7446.830078  7446.830078  7101.520020  7143.580078  7143.580078   \n",
       "1 2017-11-10  7173.729980  7312.000000  6436.870117  6618.140137  6618.140137   \n",
       "2 2017-11-11  6618.609863  6873.149902  6204.220215  6357.600098  6357.600098   \n",
       "3 2017-11-12  6295.450195  6625.049805  5519.009766  5950.069824  5950.069824   \n",
       "4 2017-11-13  5938.250000  6811.189941  5844.290039  6559.490234  6559.490234   \n",
       "\n",
       "       Volume  \n",
       "0  3226249984  \n",
       "1  5208249856  \n",
       "2  4908680192  \n",
       "3  8957349888  \n",
       "4  6263249920  "
      ]
     },
     "execution_count": 216,
     "metadata": {},
     "output_type": "execute_result"
    }
   ],
   "source": [
    "btc_data.head()"
   ]
  },
  {
   "cell_type": "code",
   "execution_count": 217,
   "metadata": {},
   "outputs": [
    {
     "data": {
      "text/plain": [
       "(1510, 7)"
      ]
     },
     "execution_count": 217,
     "metadata": {},
     "output_type": "execute_result"
    }
   ],
   "source": [
    "btc_data.shape"
   ]
  },
  {
   "cell_type": "markdown",
   "metadata": {},
   "source": [
    "> We are going to check if the prices of Close and Adjacent Close are the same in all instances."
   ]
  },
  {
   "cell_type": "code",
   "execution_count": 218,
   "metadata": {
    "scrolled": true
   },
   "outputs": [
    {
     "data": {
      "text/plain": [
       "0.0"
      ]
     },
     "execution_count": 218,
     "metadata": {},
     "output_type": "execute_result"
    }
   ],
   "source": [
    "(btc_data['Close'] - btc_data['Adj Close']).sum()"
   ]
  },
  {
   "cell_type": "markdown",
   "metadata": {},
   "source": [
    "> Since they are the same we are going to use only one of these two columns."
   ]
  },
  {
   "cell_type": "markdown",
   "metadata": {},
   "source": [
    "> We have to check if there are null values or zeros in the dataset"
   ]
  },
  {
   "cell_type": "code",
   "execution_count": 219,
   "metadata": {
    "scrolled": true
   },
   "outputs": [
    {
     "data": {
      "text/plain": [
       "Date         0\n",
       "Open         0\n",
       "High         0\n",
       "Low          0\n",
       "Close        0\n",
       "Adj Close    0\n",
       "Volume       0\n",
       "dtype: int64"
      ]
     },
     "execution_count": 219,
     "metadata": {},
     "output_type": "execute_result"
    }
   ],
   "source": [
    "btc_data.isna().sum()"
   ]
  },
  {
   "cell_type": "markdown",
   "metadata": {},
   "source": [
    "> We see that there are no null values so now we are going to check for zero values"
   ]
  },
  {
   "cell_type": "code",
   "execution_count": 220,
   "metadata": {
    "scrolled": true
   },
   "outputs": [
    {
     "data": {
      "text/html": [
       "<div>\n",
       "<style scoped>\n",
       "    .dataframe tbody tr th:only-of-type {\n",
       "        vertical-align: middle;\n",
       "    }\n",
       "\n",
       "    .dataframe tbody tr th {\n",
       "        vertical-align: top;\n",
       "    }\n",
       "\n",
       "    .dataframe thead th {\n",
       "        text-align: right;\n",
       "    }\n",
       "</style>\n",
       "<table border=\"1\" class=\"dataframe\">\n",
       "  <thead>\n",
       "    <tr style=\"text-align: right;\">\n",
       "      <th></th>\n",
       "      <th>Date</th>\n",
       "      <th>Open</th>\n",
       "      <th>High</th>\n",
       "      <th>Low</th>\n",
       "      <th>Close</th>\n",
       "      <th>Adj Close</th>\n",
       "      <th>Volume</th>\n",
       "    </tr>\n",
       "  </thead>\n",
       "  <tbody>\n",
       "  </tbody>\n",
       "</table>\n",
       "</div>"
      ],
      "text/plain": [
       "Empty DataFrame\n",
       "Columns: [Date, Open, High, Low, Close, Adj Close, Volume]\n",
       "Index: []"
      ]
     },
     "execution_count": 220,
     "metadata": {},
     "output_type": "execute_result"
    }
   ],
   "source": [
    "btc_data.query('Open==0 or High==0 or Low==0 or Close==0 or Volume ==0')"
   ]
  },
  {
   "cell_type": "markdown",
   "metadata": {},
   "source": [
    "> Time to visualize the data"
   ]
  },
  {
   "cell_type": "code",
   "execution_count": 221,
   "metadata": {},
   "outputs": [
    {
     "data": {
      "image/png": "[encoded data removed]",
      "text/plain": [
       "<Figure size 432x288 with 1 Axes>"
      ]
     },
     "metadata": {
      "needs_background": "light"
     },
     "output_type": "display_data"
    }
   ],
   "source": [
    "fig, ax = plt.subplots()\n",
    "plt.plot(btc_data['Date'], btc_data['High'],color=\"red\",label='High')\n",
    "plt.plot(btc_data['Date'], btc_data['Low'],color=\"blue\",label='Low')\n",
    "plt.plot(btc_data['Date'], btc_data['Close'],color=\"black\",label='Close')\n",
    "plt.plot(btc_data['Date'], btc_data['Open'],color=\"orange\",label='Open')\n",
    "\n",
    "\n",
    "ax = plt.gca()\n",
    "ax.xaxis.set_major_locator(YearLocator())\n",
    "\n",
    "plt.legend(loc=\"upper left\")\n",
    "\n",
    "ax.set_xlabel('Date')\n",
    "ax.set_ylabel('Price in Dollars')\n",
    "plt.show()\n",
    "\n",
    "\n"
   ]
  },
  {
   "cell_type": "code",
   "execution_count": 222,
   "metadata": {},
   "outputs": [
    {
     "data": {
      "image/png": "[encoded data removed]",
      "text/plain": [
       "<Figure size 432x288 with 1 Axes>"
      ]
     },
     "metadata": {
      "needs_background": "light"
     },
     "output_type": "display_data"
    }
   ],
   "source": [
    "fig, ax = plt.subplots()\n",
    "plt.plot(btc_data['Date'], btc_data['Volume'],color=\"blue\",label='Volume')\n",
    "\n",
    "ax = plt.gca()\n",
    "ax.xaxis.set_major_locator(YearLocator())\n",
    "\n",
    "ax.set_xlabel('Date')\n",
    "ax.set_ylabel('Volume')\n",
    "\n",
    "plt.legend(loc=\"upper left\")\n",
    "\n",
    "plt.show()"
   ]
  },
  {
   "cell_type": "markdown",
   "metadata": {},
   "source": [
    "> We are going to use the MinMax to normalize the values."
   ]
  },
  {
   "cell_type": "code",
   "execution_count": 223,
   "metadata": {
    "scrolled": true
   },
   "outputs": [
    {
     "data": {
      "text/html": [
       "<div>\n",
       "<style scoped>\n",
       "    .dataframe tbody tr th:only-of-type {\n",
       "        vertical-align: middle;\n",
       "    }\n",
       "\n",
       "    .dataframe tbody tr th {\n",
       "        vertical-align: top;\n",
       "    }\n",
       "\n",
       "    .dataframe thead tr th {\n",
       "        text-align: left;\n",
       "    }\n",
       "</style>\n",
       "<table border=\"1\" class=\"dataframe\">\n",
       "  <thead>\n",
       "    <tr>\n",
       "      <th></th>\n",
       "      <th>Close</th>\n",
       "      <th>Adj Close</th>\n",
       "      <th>Open</th>\n",
       "      <th>High</th>\n",
       "      <th>Volume</th>\n",
       "      <th>Low</th>\n",
       "    </tr>\n",
       "  </thead>\n",
       "  <tbody>\n",
       "    <tr>\n",
       "      <th>0</th>\n",
       "      <td>0.060731</td>\n",
       "      <td>0.060731</td>\n",
       "      <td>0.065469</td>\n",
       "      <td>0.063672</td>\n",
       "      <td>0.000869</td>\n",
       "      <td>0.061880</td>\n",
       "    </tr>\n",
       "    <tr>\n",
       "      <th>1</th>\n",
       "      <td>0.052563</td>\n",
       "      <td>0.052563</td>\n",
       "      <td>0.061223</td>\n",
       "      <td>0.061614</td>\n",
       "      <td>0.006564</td>\n",
       "      <td>0.051361</td>\n",
       "    </tr>\n",
       "    <tr>\n",
       "      <th>2</th>\n",
       "      <td>0.048513</td>\n",
       "      <td>0.048513</td>\n",
       "      <td>0.052591</td>\n",
       "      <td>0.054916</td>\n",
       "      <td>0.005703</td>\n",
       "      <td>0.047680</td>\n",
       "    </tr>\n",
       "    <tr>\n",
       "      <th>3</th>\n",
       "      <td>0.042178</td>\n",
       "      <td>0.042178</td>\n",
       "      <td>0.047567</td>\n",
       "      <td>0.051129</td>\n",
       "      <td>0.017336</td>\n",
       "      <td>0.036836</td>\n",
       "    </tr>\n",
       "    <tr>\n",
       "      <th>4</th>\n",
       "      <td>0.051651</td>\n",
       "      <td>0.051651</td>\n",
       "      <td>0.042013</td>\n",
       "      <td>0.053970</td>\n",
       "      <td>0.009595</td>\n",
       "      <td>0.041984</td>\n",
       "    </tr>\n",
       "    <tr>\n",
       "      <th>...</th>\n",
       "      <td>...</td>\n",
       "      <td>...</td>\n",
       "      <td>...</td>\n",
       "      <td>...</td>\n",
       "      <td>...</td>\n",
       "      <td>...</td>\n",
       "    </tr>\n",
       "    <tr>\n",
       "      <th>1505</th>\n",
       "      <td>0.739122</td>\n",
       "      <td>0.739122</td>\n",
       "      <td>0.705763</td>\n",
       "      <td>0.733535</td>\n",
       "      <td>0.072692</td>\n",
       "      <td>0.710144</td>\n",
       "    </tr>\n",
       "    <tr>\n",
       "      <th>1506</th>\n",
       "      <td>0.739708</td>\n",
       "      <td>0.739708</td>\n",
       "      <td>0.739655</td>\n",
       "      <td>0.740887</td>\n",
       "      <td>0.061614</td>\n",
       "      <td>0.748894</td>\n",
       "    </tr>\n",
       "    <tr>\n",
       "      <th>1507</th>\n",
       "      <td>0.733609</td>\n",
       "      <td>0.733609</td>\n",
       "      <td>0.740415</td>\n",
       "      <td>0.731157</td>\n",
       "      <td>0.046279</td>\n",
       "      <td>0.744498</td>\n",
       "    </tr>\n",
       "    <tr>\n",
       "      <th>1508</th>\n",
       "      <td>0.739510</td>\n",
       "      <td>0.739510</td>\n",
       "      <td>0.733788</td>\n",
       "      <td>0.731459</td>\n",
       "      <td>0.051835</td>\n",
       "      <td>0.734788</td>\n",
       "    </tr>\n",
       "    <tr>\n",
       "      <th>1509</th>\n",
       "      <td>0.753768</td>\n",
       "      <td>0.753768</td>\n",
       "      <td>0.740300</td>\n",
       "      <td>0.743018</td>\n",
       "      <td>0.060947</td>\n",
       "      <td>0.748858</td>\n",
       "    </tr>\n",
       "  </tbody>\n",
       "</table>\n",
       "<p>1510 rows × 6 columns</p>\n",
       "</div>"
      ],
      "text/plain": [
       "         Close Adj Close      Open      High    Volume       Low\n",
       "0     0.060731  0.060731  0.065469  0.063672  0.000869  0.061880\n",
       "1     0.052563  0.052563  0.061223  0.061614  0.006564  0.051361\n",
       "2     0.048513  0.048513  0.052591  0.054916  0.005703  0.047680\n",
       "3     0.042178  0.042178  0.047567  0.051129  0.017336  0.036836\n",
       "4     0.051651  0.051651  0.042013  0.053970  0.009595  0.041984\n",
       "...        ...       ...       ...       ...       ...       ...\n",
       "1505  0.739122  0.739122  0.705763  0.733535  0.072692  0.710144\n",
       "1506  0.739708  0.739708  0.739655  0.740887  0.061614  0.748894\n",
       "1507  0.733609  0.733609  0.740415  0.731157  0.046279  0.744498\n",
       "1508  0.739510  0.739510  0.733788  0.731459  0.051835  0.734788\n",
       "1509  0.753768  0.753768  0.740300  0.743018  0.060947  0.748858\n",
       "\n",
       "[1510 rows x 6 columns]"
      ]
     },
     "execution_count": 223,
     "metadata": {},
     "output_type": "execute_result"
    }
   ],
   "source": [
    "from sklearn.preprocessing import StandardScaler,MinMaxScaler\n",
    "\n",
    "scaler = MinMaxScaler() #https://scikit-learn.org/stable/modules/generated/sklearn.preprocessing.StandardScaler.html\n",
    "X = scaler.fit_transform(btc_data[['Close', 'Adj Close','Open','High','Volume','Low']])\n",
    "btc = pd.DataFrame(X, columns=[['Close', 'Adj Close','Open','High','Volume','Low']])\n",
    "btc"
   ]
  },
  {
   "cell_type": "markdown",
   "metadata": {},
   "source": [
    "We are going to find the correlation among the variables"
   ]
  },
  {
   "cell_type": "code",
   "execution_count": 224,
   "metadata": {},
   "outputs": [
    {
     "data": {
      "text/html": [
       "<style type=\"text/css\">\n",
       "#T_8e8c5_row0_col0, #T_8e8c5_row0_col1, #T_8e8c5_row0_col3, #T_8e8c5_row0_col5, #T_8e8c5_row1_col0, #T_8e8c5_row1_col1, #T_8e8c5_row1_col3, #T_8e8c5_row1_col5, #T_8e8c5_row2_col2, #T_8e8c5_row2_col3, #T_8e8c5_row2_col5, #T_8e8c5_row3_col0, #T_8e8c5_row3_col1, #T_8e8c5_row3_col2, #T_8e8c5_row3_col3, #T_8e8c5_row3_col5, #T_8e8c5_row4_col4, #T_8e8c5_row5_col0, #T_8e8c5_row5_col1, #T_8e8c5_row5_col2, #T_8e8c5_row5_col3, #T_8e8c5_row5_col5 {\n",
       "  background-color: #08306b;\n",
       "  color: #f1f1f1;\n",
       "}\n",
       "#T_8e8c5_row0_col2, #T_8e8c5_row1_col2, #T_8e8c5_row2_col0, #T_8e8c5_row2_col1 {\n",
       "  background-color: #08316d;\n",
       "  color: #f1f1f1;\n",
       "}\n",
       "#T_8e8c5_row0_col4, #T_8e8c5_row1_col4 {\n",
       "  background-color: #f2f8fd;\n",
       "  color: #000000;\n",
       "}\n",
       "#T_8e8c5_row2_col4 {\n",
       "  background-color: #f2f7fd;\n",
       "  color: #000000;\n",
       "}\n",
       "#T_8e8c5_row3_col4 {\n",
       "  background-color: #eff6fc;\n",
       "  color: #000000;\n",
       "}\n",
       "#T_8e8c5_row4_col0, #T_8e8c5_row4_col1, #T_8e8c5_row4_col2, #T_8e8c5_row4_col3, #T_8e8c5_row4_col5, #T_8e8c5_row5_col4 {\n",
       "  background-color: #f7fbff;\n",
       "  color: #000000;\n",
       "}\n",
       "</style>\n",
       "<table id=\"T_8e8c5_\">\n",
       "  <thead>\n",
       "    <tr>\n",
       "      <th class=\"blank level0\" >&nbsp;</th>\n",
       "      <th class=\"col_heading level0 col0\" >('Close',)</th>\n",
       "    </tr>\n",
       "  </thead>\n",
       "  <tbody>\n",
       "    <tr>\n",
       "      <th id=\"T_8e8c5_level0_row0\" class=\"row_heading level0 row0\" >('Close',)</th>\n",
       "      <td id=\"T_8e8c5_row0_col0\" class=\"data row0 col0\" >1.000000</td>\n",
       "      <td id=\"T_8e8c5_row0_col1\" class=\"data row0 col1\" >1.000000</td>\n",
       "      <td id=\"T_8e8c5_row0_col2\" class=\"data row0 col2\" >0.998335</td>\n",
       "      <td id=\"T_8e8c5_row0_col3\" class=\"data row0 col3\" >0.999278</td>\n",
       "      <td id=\"T_8e8c5_row0_col4\" class=\"data row0 col4\" >0.607540</td>\n",
       "      <td id=\"T_8e8c5_row0_col5\" class=\"data row0 col5\" >0.999138</td>\n",
       "    </tr>\n",
       "    <tr>\n",
       "      <td id=\"T_8e8c5_row1_col0\" class=\"data row1 col0\" >1.000000</td>\n",
       "      <td id=\"T_8e8c5_row1_col1\" class=\"data row1 col1\" >1.000000</td>\n",
       "      <td id=\"T_8e8c5_row1_col2\" class=\"data row1 col2\" >0.998335</td>\n",
       "      <td id=\"T_8e8c5_row1_col3\" class=\"data row1 col3\" >0.999278</td>\n",
       "      <td id=\"T_8e8c5_row1_col4\" class=\"data row1 col4\" >0.607540</td>\n",
       "      <td id=\"T_8e8c5_row1_col5\" class=\"data row1 col5\" >0.999138</td>\n",
       "    </tr>\n",
       "    <tr>\n",
       "      <td id=\"T_8e8c5_row2_col0\" class=\"data row2 col0\" >0.998335</td>\n",
       "      <td id=\"T_8e8c5_row2_col1\" class=\"data row2 col1\" >0.998335</td>\n",
       "      <td id=\"T_8e8c5_row2_col2\" class=\"data row2 col2\" >1.000000</td>\n",
       "      <td id=\"T_8e8c5_row2_col3\" class=\"data row2 col3\" >0.999333</td>\n",
       "      <td id=\"T_8e8c5_row2_col4\" class=\"data row2 col4\" >0.609332</td>\n",
       "      <td id=\"T_8e8c5_row2_col5\" class=\"data row2 col5\" >0.998689</td>\n",
       "    </tr>\n",
       "    <tr>\n",
       "      <td id=\"T_8e8c5_row3_col0\" class=\"data row3 col0\" >0.999278</td>\n",
       "      <td id=\"T_8e8c5_row3_col1\" class=\"data row3 col1\" >0.999278</td>\n",
       "      <td id=\"T_8e8c5_row3_col2\" class=\"data row3 col2\" >0.999333</td>\n",
       "      <td id=\"T_8e8c5_row3_col3\" class=\"data row3 col3\" >1.000000</td>\n",
       "      <td id=\"T_8e8c5_row3_col4\" class=\"data row3 col4\" >0.614514</td>\n",
       "      <td id=\"T_8e8c5_row3_col5\" class=\"data row3 col5\" >0.998625</td>\n",
       "    </tr>\n",
       "    <tr>\n",
       "      <td id=\"T_8e8c5_row4_col0\" class=\"data row4 col0\" >0.607540</td>\n",
       "      <td id=\"T_8e8c5_row4_col1\" class=\"data row4 col1\" >0.607540</td>\n",
       "      <td id=\"T_8e8c5_row4_col2\" class=\"data row4 col2\" >0.609332</td>\n",
       "      <td id=\"T_8e8c5_row4_col3\" class=\"data row4 col3\" >0.614514</td>\n",
       "      <td id=\"T_8e8c5_row4_col4\" class=\"data row4 col4\" >1.000000</td>\n",
       "      <td id=\"T_8e8c5_row4_col5\" class=\"data row4 col5\" >0.597926</td>\n",
       "    </tr>\n",
       "    <tr>\n",
       "      <td id=\"T_8e8c5_row5_col0\" class=\"data row5 col0\" >0.999138</td>\n",
       "      <td id=\"T_8e8c5_row5_col1\" class=\"data row5 col1\" >0.999138</td>\n",
       "      <td id=\"T_8e8c5_row5_col2\" class=\"data row5 col2\" >0.998689</td>\n",
       "      <td id=\"T_8e8c5_row5_col3\" class=\"data row5 col3\" >0.998625</td>\n",
       "      <td id=\"T_8e8c5_row5_col4\" class=\"data row5 col4\" >0.597926</td>\n",
       "      <td id=\"T_8e8c5_row5_col5\" class=\"data row5 col5\" >1.000000</td>\n",
       "    </tr>\n",
       "  </tbody>\n",
       "</table>\n"
      ],
      "text/plain": [
       "<pandas.io.formats.style.Styler at 0x1ff157f1d88>"
      ]
     },
     "execution_count": 224,
     "metadata": {},
     "output_type": "execute_result"
    }
   ],
   "source": [
    "corr = btc.corr().style.background_gradient(cmap=\"Blues\")\n",
    "corr"
   ]
  },
  {
   "cell_type": "markdown",
   "metadata": {},
   "source": [
    "> Importing the machine learning methods"
   ]
  },
  {
   "cell_type": "code",
   "execution_count": 225,
   "metadata": {},
   "outputs": [],
   "source": [
    "from sklearn.linear_model import LogisticRegression\n",
    "from sklearn.linear_model import LinearRegression\n",
    "from sklearn.model_selection import train_test_split\n",
    "from sklearn.model_selection import cross_val_score\n",
    "from sklearn import metrics\n",
    "from sklearn import datasets\n",
    "from sklearn.model_selection import KFold,TimeSeriesSplit\n",
    "import statsmodels.api as sm\n",
    "from sklearn.model_selection import cross_val_predict\n",
    "import matplotlib.pyplot as plt\n",
    "\n",
    "#https://stackoverflow.com/questions/58163026/what-is-difference-between-metrics-r2-score-and-acccuracy-score/58163220"
   ]
  },
  {
   "cell_type": "markdown",
   "metadata": {},
   "source": [
    "## Linear Regression\n",
    "\n",
    "> Conduct cross validation using the Time split method because we want to control the chronology of the data used for training"
   ]
  },
  {
   "cell_type": "markdown",
   "metadata": {},
   "source": [
    "model = LinearRegression()\n",
    "# evaluate model\n",
    "scores = cross_val_score(model, btc[['Open','High','Volume','Low']], btc['Close'], scoring='r2', cv=cv, n_jobs=-1)\n",
    "# report performance\n",
    "scores"
   ]
  },
  {
   "cell_type": "code",
   "execution_count": 226,
   "metadata": {
    "scrolled": false
   },
   "outputs": [
    {
     "name": "stdout",
     "output_type": "stream",
     "text": [
      "1 of KFold 10\n",
      "Score: 0.9907528792808834\n",
      "Mean squared error: 2.2613461109581828e-06\n",
      "2 of KFold 10\n",
      "Score: 0.9927226304747312\n",
      "Mean squared error: 2.6739667829362036e-06\n",
      "3 of KFold 10\n",
      "Score: 0.9592762081592875\n",
      "Mean squared error: 7.50445157832767e-06\n",
      "4 of KFold 10\n",
      "Score: 0.9861227803495584\n",
      "Mean squared error: 5.595529491778814e-06\n",
      "5 of KFold 10\n",
      "Score: 0.9868412970618526\n",
      "Mean squared error: 2.1851490249901053e-06\n",
      "6 of KFold 10\n",
      "Score: 0.992954254791606\n",
      "Mean squared error: 3.3933837497469295e-06\n",
      "7 of KFold 10\n",
      "Score: 0.9969458212707586\n",
      "Mean squared error: 1.7838096589038757e-06\n",
      "8 of KFold 10\n",
      "Score: 0.995771516687892\n",
      "Mean squared error: 0.00020357100644073124\n",
      "9 of KFold 10\n",
      "Score: 0.9938222110137763\n",
      "Mean squared error: 0.00015522649339473843\n",
      "10 of KFold 10\n",
      "Score: 0.9885469941353374\n",
      "Mean squared error: 0.00013174246602562563\n"
     ]
    }
   ],
   "source": [
    "X = btc[['Open','High','Volume','Low']]\n",
    "y = btc['Close']\n",
    "kf = TimeSeriesSplit(n_splits=10,max_train_size =365) #365 because of the dates\n",
    "scores =[]\n",
    "losses = []\n",
    "i=1\n",
    "\n",
    "for train_index,test_index in kf.split(X,y):\n",
    "    print('{} of KFold {}'.format(i,kf.n_splits))\n",
    "    xtrain,xtest = X.loc[train_index],X.loc[test_index]\n",
    "    ytrain,ytest = y.loc[train_index],y.loc[test_index]\n",
    "    \n",
    "    #model\n",
    "    lr = LinearRegression()\n",
    "    lr.fit(xtrain,ytrain)\n",
    "    score =lr.score(xtest,ytest)\n",
    "    loss = metrics.mean_squared_error(ytest,lr.predict(xtest)) \n",
    "    print('Score:',score)\n",
    "    print('Mean squared error:',loss) #Elaxistopoiisi sinartisis lathon\n",
    "    scores.append(score) \n",
    "    losses.append(loss)   \n",
    "    i+=1\n",
    "    \"\"\"fig,ax = plt.subplots()\n",
    "    ax.plot(xtrain,lr.predict(xtrain),color='red')\n",
    "    plt.show\"\"\""
   ]
  },
  {
   "cell_type": "code",
   "execution_count": 227,
   "metadata": {
    "scrolled": true
   },
   "outputs": [
    {
     "data": {
      "image/png": "[encoded data removed]",
      "text/plain": [
       "<Figure size 432x288 with 1 Axes>"
      ]
     },
     "metadata": {
      "needs_background": "light"
     },
     "output_type": "display_data"
    }
   ],
   "source": [
    "#Plotting KFold Linear Regression R2 scores\n",
    "fig, ax = plt.subplots()\n",
    "plt.plot(scores)\n",
    "ax.set_xlabel('Number of Fold')\n",
    "ax.set_ylabel('R2 score')\n",
    "plt.show()"
   ]
  },
  {
   "cell_type": "code",
   "execution_count": 228,
   "metadata": {
    "scrolled": true
   },
   "outputs": [
    {
     "data": {
      "image/png": "[encoded data removed]",
      "text/plain": [
       "<Figure size 432x288 with 1 Axes>"
      ]
     },
     "metadata": {
      "needs_background": "light"
     },
     "output_type": "display_data"
    }
   ],
   "source": [
    "#Plotting KFold Linear Regression ROC scores\n",
    "fig, ax = plt.subplots()\n",
    "plt.plot(losses)\n",
    "ax.set_xlabel('Number of Fold')\n",
    "ax.set_ylabel('Mean Squared Error Loss')\n",
    "plt.show()"
   ]
  },
  {
   "cell_type": "markdown",
   "metadata": {},
   "source": [
    "## Logistic Regression"
   ]
  },
  {
   "cell_type": "markdown",
   "metadata": {},
   "source": [
    "> Creating a new column that contains the difference of the openning with the closing price."
   ]
  },
  {
   "cell_type": "code",
   "execution_count": 229,
   "metadata": {},
   "outputs": [],
   "source": [
    "btc_data['PosNegClosing'] = btc_data['Open']- btc_data['Close']"
   ]
  },
  {
   "cell_type": "markdown",
   "metadata": {},
   "source": [
    "> Then putting to all negative values the value 0 and to all posivite the value 1 in order to have a column with binary data."
   ]
  },
  {
   "cell_type": "code",
   "execution_count": 230,
   "metadata": {},
   "outputs": [],
   "source": [
    "btc_data['PosNegClosing'].mask(btc_data['PosNegClosing']>0,1,inplace=True)"
   ]
  },
  {
   "cell_type": "code",
   "execution_count": 231,
   "metadata": {},
   "outputs": [],
   "source": [
    "btc_data['PosNegClosing'].mask(btc_data['PosNegClosing']<0,0,inplace=True)"
   ]
  },
  {
   "cell_type": "code",
   "execution_count": 232,
   "metadata": {
    "scrolled": true
   },
   "outputs": [
    {
     "data": {
      "text/plain": [
       "1.0"
      ]
     },
     "execution_count": 232,
     "metadata": {},
     "output_type": "execute_result"
    }
   ],
   "source": [
    "btc_data['PosNegClosing'].max()"
   ]
  },
  {
   "cell_type": "code",
   "execution_count": 233,
   "metadata": {
    "scrolled": true
   },
   "outputs": [
    {
     "data": {
      "text/plain": [
       "0.0"
      ]
     },
     "execution_count": 233,
     "metadata": {},
     "output_type": "execute_result"
    }
   ],
   "source": [
    "btc_data['PosNegClosing'].min()"
   ]
  },
  {
   "cell_type": "markdown",
   "metadata": {},
   "source": [
    "> Put our data to X and Y dataframes"
   ]
  },
  {
   "cell_type": "code",
   "execution_count": 234,
   "metadata": {},
   "outputs": [],
   "source": [
    "X = btc[['Open','High','Volume','Low','Close']]\n",
    "y = btc_data['PosNegClosing']"
   ]
  },
  {
   "cell_type": "markdown",
   "metadata": {},
   "source": [
    "> Conduct Logistic regression to 10 different kfolds and report their performances."
   ]
  },
  {
   "cell_type": "code",
   "execution_count": 235,
   "metadata": {
    "scrolled": true
   },
   "outputs": [
    {
     "name": "stdout",
     "output_type": "stream",
     "text": [
      "1 of KFold 10\n",
      "Score: 0.5474452554744526\n",
      "Log Loss: 15.630687127623814\n",
      "2 of KFold 10\n",
      "Score: 0.48175182481751827\n",
      "Log Loss: 17.899657839698236\n",
      "3 of KFold 10\n",
      "Score: 0.5985401459854015\n",
      "Log Loss: 13.865932129343706\n",
      "4 of KFold 10\n",
      "Score: 0.5109489051094891\n",
      "Log Loss: 16.891226412109603\n",
      "5 of KFold 10\n",
      "Score: 0.48905109489051096\n",
      "Log Loss: 17.647549982801078\n",
      "6 of KFold 10\n",
      "Score: 0.5036496350364964\n",
      "Log Loss: 17.14333426900676\n",
      "7 of KFold 10\n",
      "Score: 0.40145985401459855\n",
      "Log Loss: 20.673322856729577\n",
      "8 of KFold 10\n",
      "Score: 0.5766423357664233\n",
      "Log Loss: 14.62225570003518\n",
      "9 of KFold 10\n",
      "Score: 0.48175182481751827\n",
      "Log Loss: 17.899657839698236\n",
      "10 of KFold 10\n",
      "Score: 0.6058394160583942\n",
      "Log Loss: 13.61396434790877\n"
     ]
    }
   ],
   "source": [
    "kf = TimeSeriesSplit(n_splits=10,max_train_size =365)\n",
    "scores =[]\n",
    "losses = []\n",
    "i=1\n",
    "\n",
    "for train_index,test_index in kf.split(X,y):\n",
    "    print('{} of KFold {}'.format(i,kf.n_splits))\n",
    "    xtrain,xtest = X.loc[train_index],X.loc[test_index]\n",
    "    ytrain,ytest = y.loc[train_index],y.loc[test_index]\n",
    "    \n",
    "    #model\n",
    "    lr = LogisticRegression()\n",
    "    lr.fit(xtrain,ytrain)\n",
    "    score = lr.score(xtest,ytest)\n",
    "    loss = metrics.log_loss(ytest,lr.predict(xtest))\n",
    "    print('Score:',score)\n",
    "    print('Log Loss:',loss) #we cant use mse https://www.analyticsvidhya.com/blog/2020/11/binary-cross-entropy-aka-log-loss-the-cost-function-used-in-logistic-regression/\n",
    "    scores.append(score) \n",
    "    losses.append(loss)   \n",
    "    i+=1\n",
    "   "
   ]
  },
  {
   "cell_type": "code",
   "execution_count": 236,
   "metadata": {
    "scrolled": true
   },
   "outputs": [
    {
     "data": {
      "image/png": "[encoded data removed]",
      "text/plain": [
       "<Figure size 432x288 with 1 Axes>"
      ]
     },
     "metadata": {
      "needs_background": "light"
     },
     "output_type": "display_data"
    }
   ],
   "source": [
    "#Plotting KFold Logistic Regression ROC scores\n",
    "fig, ax = plt.subplots()\n",
    "plt.plot(scores)\n",
    "ax.set_xlabel('Number of Fold')\n",
    "ax.set_ylabel('Score')\n",
    "plt.show()"
   ]
  },
  {
   "cell_type": "code",
   "execution_count": 237,
   "metadata": {},
   "outputs": [
    {
     "data": {
      "image/png": "[encoded data removed]",
      "text/plain": [
       "<Figure size 432x288 with 1 Axes>"
      ]
     },
     "metadata": {
      "needs_background": "light"
     },
     "output_type": "display_data"
    }
   ],
   "source": [
    "fig, ax = plt.subplots()\n",
    "plt.plot(losses)\n",
    "ax.set_xlabel('Number of Fold')\n",
    "ax.set_ylabel('Log Loss')\n",
    "plt.show()"
   ]
  },
  {
   "cell_type": "markdown",
   "metadata": {},
   "source": [
    "## Neural Network"
   ]
  },
  {
   "cell_type": "markdown",
   "metadata": {},
   "source": [
    "> Importing tensorflow"
   ]
  },
  {
   "cell_type": "code",
   "execution_count": 238,
   "metadata": {},
   "outputs": [],
   "source": [
    "import tensorflow as tf\n",
    "from tensorflow import keras"
   ]
  },
  {
   "cell_type": "code",
   "execution_count": 239,
   "metadata": {
    "scrolled": false
   },
   "outputs": [
    {
     "data": {
      "text/html": [
       "<div>\n",
       "<style scoped>\n",
       "    .dataframe tbody tr th:only-of-type {\n",
       "        vertical-align: middle;\n",
       "    }\n",
       "\n",
       "    .dataframe tbody tr th {\n",
       "        vertical-align: top;\n",
       "    }\n",
       "\n",
       "    .dataframe thead tr th {\n",
       "        text-align: left;\n",
       "    }\n",
       "</style>\n",
       "<table border=\"1\" class=\"dataframe\">\n",
       "  <thead>\n",
       "    <tr>\n",
       "      <th></th>\n",
       "      <th>Close</th>\n",
       "      <th>Adj Close</th>\n",
       "      <th>Open</th>\n",
       "      <th>High</th>\n",
       "      <th>Volume</th>\n",
       "      <th>Low</th>\n",
       "    </tr>\n",
       "  </thead>\n",
       "  <tbody>\n",
       "    <tr>\n",
       "      <th>0</th>\n",
       "      <td>0.060731</td>\n",
       "      <td>0.060731</td>\n",
       "      <td>0.065469</td>\n",
       "      <td>0.063672</td>\n",
       "      <td>0.000869</td>\n",
       "      <td>0.061880</td>\n",
       "    </tr>\n",
       "    <tr>\n",
       "      <th>1</th>\n",
       "      <td>0.052563</td>\n",
       "      <td>0.052563</td>\n",
       "      <td>0.061223</td>\n",
       "      <td>0.061614</td>\n",
       "      <td>0.006564</td>\n",
       "      <td>0.051361</td>\n",
       "    </tr>\n",
       "    <tr>\n",
       "      <th>2</th>\n",
       "      <td>0.048513</td>\n",
       "      <td>0.048513</td>\n",
       "      <td>0.052591</td>\n",
       "      <td>0.054916</td>\n",
       "      <td>0.005703</td>\n",
       "      <td>0.047680</td>\n",
       "    </tr>\n",
       "    <tr>\n",
       "      <th>3</th>\n",
       "      <td>0.042178</td>\n",
       "      <td>0.042178</td>\n",
       "      <td>0.047567</td>\n",
       "      <td>0.051129</td>\n",
       "      <td>0.017336</td>\n",
       "      <td>0.036836</td>\n",
       "    </tr>\n",
       "    <tr>\n",
       "      <th>4</th>\n",
       "      <td>0.051651</td>\n",
       "      <td>0.051651</td>\n",
       "      <td>0.042013</td>\n",
       "      <td>0.053970</td>\n",
       "      <td>0.009595</td>\n",
       "      <td>0.041984</td>\n",
       "    </tr>\n",
       "    <tr>\n",
       "      <th>...</th>\n",
       "      <td>...</td>\n",
       "      <td>...</td>\n",
       "      <td>...</td>\n",
       "      <td>...</td>\n",
       "      <td>...</td>\n",
       "      <td>...</td>\n",
       "    </tr>\n",
       "    <tr>\n",
       "      <th>1505</th>\n",
       "      <td>0.739122</td>\n",
       "      <td>0.739122</td>\n",
       "      <td>0.705763</td>\n",
       "      <td>0.733535</td>\n",
       "      <td>0.072692</td>\n",
       "      <td>0.710144</td>\n",
       "    </tr>\n",
       "    <tr>\n",
       "      <th>1506</th>\n",
       "      <td>0.739708</td>\n",
       "      <td>0.739708</td>\n",
       "      <td>0.739655</td>\n",
       "      <td>0.740887</td>\n",
       "      <td>0.061614</td>\n",
       "      <td>0.748894</td>\n",
       "    </tr>\n",
       "    <tr>\n",
       "      <th>1507</th>\n",
       "      <td>0.733609</td>\n",
       "      <td>0.733609</td>\n",
       "      <td>0.740415</td>\n",
       "      <td>0.731157</td>\n",
       "      <td>0.046279</td>\n",
       "      <td>0.744498</td>\n",
       "    </tr>\n",
       "    <tr>\n",
       "      <th>1508</th>\n",
       "      <td>0.739510</td>\n",
       "      <td>0.739510</td>\n",
       "      <td>0.733788</td>\n",
       "      <td>0.731459</td>\n",
       "      <td>0.051835</td>\n",
       "      <td>0.734788</td>\n",
       "    </tr>\n",
       "    <tr>\n",
       "      <th>1509</th>\n",
       "      <td>0.753768</td>\n",
       "      <td>0.753768</td>\n",
       "      <td>0.740300</td>\n",
       "      <td>0.743018</td>\n",
       "      <td>0.060947</td>\n",
       "      <td>0.748858</td>\n",
       "    </tr>\n",
       "  </tbody>\n",
       "</table>\n",
       "<p>1510 rows × 6 columns</p>\n",
       "</div>"
      ],
      "text/plain": [
       "         Close Adj Close      Open      High    Volume       Low\n",
       "0     0.060731  0.060731  0.065469  0.063672  0.000869  0.061880\n",
       "1     0.052563  0.052563  0.061223  0.061614  0.006564  0.051361\n",
       "2     0.048513  0.048513  0.052591  0.054916  0.005703  0.047680\n",
       "3     0.042178  0.042178  0.047567  0.051129  0.017336  0.036836\n",
       "4     0.051651  0.051651  0.042013  0.053970  0.009595  0.041984\n",
       "...        ...       ...       ...       ...       ...       ...\n",
       "1505  0.739122  0.739122  0.705763  0.733535  0.072692  0.710144\n",
       "1506  0.739708  0.739708  0.739655  0.740887  0.061614  0.748894\n",
       "1507  0.733609  0.733609  0.740415  0.731157  0.046279  0.744498\n",
       "1508  0.739510  0.739510  0.733788  0.731459  0.051835  0.734788\n",
       "1509  0.753768  0.753768  0.740300  0.743018  0.060947  0.748858\n",
       "\n",
       "[1510 rows x 6 columns]"
      ]
     },
     "execution_count": 239,
     "metadata": {},
     "output_type": "execute_result"
    }
   ],
   "source": [
    "btc # Is already normalized with MinMaxScaler"
   ]
  },
  {
   "cell_type": "code",
   "execution_count": 240,
   "metadata": {},
   "outputs": [],
   "source": [
    "X = btc[['Open','High','Volume','Low','Close']]\n",
    "y = btc_data['PosNegClosing']"
   ]
  },
  {
   "cell_type": "code",
   "execution_count": 241,
   "metadata": {},
   "outputs": [
    {
     "data": {
      "text/plain": [
       "(1510, 5)"
      ]
     },
     "execution_count": 241,
     "metadata": {},
     "output_type": "execute_result"
    }
   ],
   "source": [
    "X_train, X_test, y_train, y_test = train_test_split(\n",
    "    X, y, test_size=0.20)\n",
    "X.shape"
   ]
  },
  {
   "cell_type": "markdown",
   "metadata": {},
   "source": [
    "> Building the model"
   ]
  },
  {
   "cell_type": "code",
   "execution_count": 242,
   "metadata": {},
   "outputs": [],
   "source": [
    "model = tf.keras.models.Sequential(layers=None, name=None)\n",
    "model.add(tf.keras.layers.Dense(50,activation=tf.nn.relu))\n",
    "model.add(tf.keras.layers.Dense(50,activation=tf.nn.relu))\n",
    "model.add(tf.keras.layers.Dense(1,activation=tf.nn.sigmoid))"
   ]
  },
  {
   "cell_type": "markdown",
   "metadata": {},
   "source": [
    "> Compiling the model"
   ]
  },
  {
   "cell_type": "code",
   "execution_count": 243,
   "metadata": {},
   "outputs": [],
   "source": [
    "model.compile(optimizer='adam',\n",
    "             loss='MeanSquaredError',\n",
    "             metrics=['accuracy'])\n"
   ]
  },
  {
   "cell_type": "markdown",
   "metadata": {},
   "source": [
    "> Fitting the model"
   ]
  },
  {
   "cell_type": "code",
   "execution_count": 244,
   "metadata": {
    "scrolled": true
   },
   "outputs": [
    {
     "name": "stdout",
     "output_type": "stream",
     "text": [
      "Epoch 1/10\n",
      "22/22 [==============================] - 0s 6ms/step - loss: 0.2503 - accuracy: 0.5078 - val_loss: 0.2507 - val_accuracy: 0.5124\n",
      "Epoch 2/10\n",
      "22/22 [==============================] - 0s 2ms/step - loss: 0.2497 - accuracy: 0.5336 - val_loss: 0.2513 - val_accuracy: 0.5124\n",
      "Epoch 3/10\n",
      "22/22 [==============================] - 0s 2ms/step - loss: 0.2488 - accuracy: 0.5336 - val_loss: 0.2494 - val_accuracy: 0.5124\n",
      "Epoch 4/10\n",
      "22/22 [==============================] - 0s 2ms/step - loss: 0.2487 - accuracy: 0.5336 - val_loss: 0.2496 - val_accuracy: 0.5124\n",
      "Epoch 5/10\n",
      "22/22 [==============================] - 0s 2ms/step - loss: 0.2488 - accuracy: 0.5336 - val_loss: 0.2503 - val_accuracy: 0.5124\n",
      "Epoch 6/10\n",
      "22/22 [==============================] - 0s 2ms/step - loss: 0.2484 - accuracy: 0.5336 - val_loss: 0.2491 - val_accuracy: 0.5124\n",
      "Epoch 7/10\n",
      "22/22 [==============================] - 0s 2ms/step - loss: 0.2483 - accuracy: 0.5336 - val_loss: 0.2487 - val_accuracy: 0.5124\n",
      "Epoch 8/10\n",
      "22/22 [==============================] - 0s 2ms/step - loss: 0.2481 - accuracy: 0.5336 - val_loss: 0.2485 - val_accuracy: 0.5124\n",
      "Epoch 9/10\n",
      "22/22 [==============================] - 0s 2ms/step - loss: 0.2478 - accuracy: 0.5336 - val_loss: 0.2489 - val_accuracy: 0.5124\n",
      "Epoch 10/10\n",
      "22/22 [==============================] - 0s 2ms/step - loss: 0.2479 - accuracy: 0.5336 - val_loss: 0.2487 - val_accuracy: 0.5124\n"
     ]
    }
   ],
   "source": [
    "history = model.fit(X_train,y_train,batch_size=50,epochs=10,validation_split=0.1)"
   ]
  },
  {
   "cell_type": "code",
   "execution_count": 245,
   "metadata": {},
   "outputs": [
    {
     "data": {
      "image/png": "[encoded data removed]",
      "text/plain": [
       "<Figure size 432x288 with 1 Axes>"
      ]
     },
     "metadata": {
      "needs_background": "light"
     },
     "output_type": "display_data"
    }
   ],
   "source": [
    "loss = history.history['loss']\n",
    "val_loss = history.history['val_loss']\n",
    "epochs = range(len(loss))\n",
    "plt.figure()\n",
    "plt.plot(epochs, loss, 'b', label='Training loss')\n",
    "plt.plot(epochs, val_loss, 'r', label='Validation loss')\n",
    "plt.title(\"Training and Validation Loss\")\n",
    "plt.legend()\n",
    "plt.show()"
   ]
  },
  {
   "cell_type": "code",
   "execution_count": 246,
   "metadata": {
    "scrolled": true
   },
   "outputs": [
    {
     "name": "stdout",
     "output_type": "stream",
     "text": [
      "Model: \"sequential_6\"\n",
      "_________________________________________________________________\n",
      " Layer (type)                Output Shape              Param #   \n",
      "=================================================================\n",
      " dense_18 (Dense)            (None, 50)                300       \n",
      "                                                                 \n",
      " dense_19 (Dense)            (None, 50)                2550      \n",
      "                                                                 \n",
      " dense_20 (Dense)            (None, 1)                 51        \n",
      "                                                                 \n",
      "=================================================================\n",
      "Total params: 2,901\n",
      "Trainable params: 2,901\n",
      "Non-trainable params: 0\n",
      "_________________________________________________________________\n"
     ]
    }
   ],
   "source": [
    "model.summary()"
   ]
  },
  {
   "cell_type": "code",
   "execution_count": 247,
   "metadata": {},
   "outputs": [
    {
     "name": "stdout",
     "output_type": "stream",
     "text": [
      "Epoch 1/30\n",
      "25/25 [==============================] - 0s 918us/step - loss: 0.2478 - accuracy: 0.5323\n",
      "Epoch 2/30\n",
      "25/25 [==============================] - 0s 959us/step - loss: 0.2477 - accuracy: 0.5406\n",
      "Epoch 3/30\n",
      "25/25 [==============================] - 0s 917us/step - loss: 0.2476 - accuracy: 0.5546\n",
      "Epoch 4/30\n",
      "25/25 [==============================] - 0s 1ms/step - loss: 0.2472 - accuracy: 0.5331\n",
      "Epoch 5/30\n",
      "25/25 [==============================] - 0s 1ms/step - loss: 0.2473 - accuracy: 0.5530\n",
      "Epoch 6/30\n",
      "25/25 [==============================] - 0s 1ms/step - loss: 0.2469 - accuracy: 0.5546\n",
      "Epoch 7/30\n",
      "25/25 [==============================] - 0s 1ms/step - loss: 0.2471 - accuracy: 0.5356\n",
      "Epoch 8/30\n",
      "25/25 [==============================] - 0s 959us/step - loss: 0.2466 - accuracy: 0.5505\n",
      "Epoch 9/30\n",
      "25/25 [==============================] - 0s 959us/step - loss: 0.2463 - accuracy: 0.5737\n",
      "Epoch 10/30\n",
      "25/25 [==============================] - 0s 1ms/step - loss: 0.2461 - accuracy: 0.5497\n",
      "Epoch 11/30\n",
      "25/25 [==============================] - 0s 1ms/step - loss: 0.2456 - accuracy: 0.5414\n",
      "Epoch 12/30\n",
      "25/25 [==============================] - 0s 959us/step - loss: 0.2459 - accuracy: 0.5522\n",
      "Epoch 13/30\n",
      "25/25 [==============================] - 0s 1ms/step - loss: 0.2461 - accuracy: 0.5397\n",
      "Epoch 14/30\n",
      "25/25 [==============================] - 0s 1ms/step - loss: 0.2450 - accuracy: 0.5820\n",
      "Epoch 15/30\n",
      "25/25 [==============================] - 0s 1ms/step - loss: 0.2446 - accuracy: 0.5712\n",
      "Epoch 16/30\n",
      "25/25 [==============================] - 0s 1ms/step - loss: 0.2443 - accuracy: 0.5414\n",
      "Epoch 17/30\n",
      "25/25 [==============================] - 0s 1ms/step - loss: 0.2435 - accuracy: 0.5861\n",
      "Epoch 18/30\n",
      "25/25 [==============================] - 0s 1ms/step - loss: 0.2433 - accuracy: 0.5753\n",
      "Epoch 19/30\n",
      "25/25 [==============================] - 0s 1ms/step - loss: 0.2430 - accuracy: 0.5770\n",
      "Epoch 20/30\n",
      "25/25 [==============================] - 0s 1ms/step - loss: 0.2416 - accuracy: 0.5861\n",
      "Epoch 21/30\n",
      "25/25 [==============================] - 0s 917us/step - loss: 0.2421 - accuracy: 0.5720\n",
      "Epoch 22/30\n",
      "25/25 [==============================] - 0s 959us/step - loss: 0.2413 - accuracy: 0.5712\n",
      "Epoch 23/30\n",
      "25/25 [==============================] - 0s 1ms/step - loss: 0.2399 - accuracy: 0.5960\n",
      "Epoch 24/30\n",
      "25/25 [==============================] - 0s 1ms/step - loss: 0.2392 - accuracy: 0.5803\n",
      "Epoch 25/30\n",
      "25/25 [==============================] - 0s 1ms/step - loss: 0.2375 - accuracy: 0.5869\n",
      "Epoch 26/30\n",
      "25/25 [==============================] - 0s 1ms/step - loss: 0.2374 - accuracy: 0.5919\n",
      "Epoch 27/30\n",
      "25/25 [==============================] - 0s 1ms/step - loss: 0.2362 - accuracy: 0.5985\n",
      "Epoch 28/30\n",
      "25/25 [==============================] - 0s 1ms/step - loss: 0.2358 - accuracy: 0.5861\n",
      "Epoch 29/30\n",
      "25/25 [==============================] - 0s 1ms/step - loss: 0.2333 - accuracy: 0.6018\n",
      "Epoch 30/30\n",
      "25/25 [==============================] - 0s 1ms/step - loss: 0.2342 - accuracy: 0.6101\n",
      "The tensorboard extension is already loaded. To reload it, use:\n",
      "  %reload_ext tensorboard\n"
     ]
    },
    {
     "data": {
      "text/plain": [
       "Reusing TensorBoard on port 8088 (pid 7432), started 0:34:08 ago. (Use '!kill 7432' to kill it.)"
      ]
     },
     "metadata": {},
     "output_type": "display_data"
    },
    {
     "data": {
      "text/html": [
       "\n",
       "      <iframe id=\"tensorboard-frame-e7b4fd34effdd69c\" width=\"100%\" height=\"800\" frameborder=\"0\">\n",
       "      </iframe>\n",
       "      <script>\n",
       "        (function() {\n",
       "          const frame = document.getElementById(\"tensorboard-frame-e7b4fd34effdd69c\");\n",
       "          const url = new URL(\"/\", window.location);\n",
       "          const port = 8088;\n",
       "          if (port) {\n",
       "            url.port = port;\n",
       "          }\n",
       "          frame.src = url;\n",
       "        })();\n",
       "      </script>\n",
       "    "
      ],
      "text/plain": [
       "<IPython.core.display.HTML object>"
      ]
     },
     "metadata": {},
     "output_type": "display_data"
    }
   ],
   "source": [
    "import os\n",
    "root_logdir = os.path.join(os.curdir, \"my_logs\")\n",
    "def get_run_logdir():\n",
    " import time\n",
    " runid = time.strftime(\"run%Y%m%d-%H%M%S\")\n",
    " return os.path.join(root_logdir, runid)\n",
    "run_logdir = get_run_logdir()\n",
    "tensorboard_cb = keras.callbacks.TensorBoard(run_logdir)\n",
    "history = model.fit(X_train, y_train, batch_size = 50, epochs = 30, verbose = 1, callbacks=[tensorboard_cb])\n",
    "%load_ext tensorboard\n",
    "%tensorboard --logdir=./my_logs  --host localhost --port 8088"
   ]
  },
  {
   "cell_type": "markdown",
   "metadata": {},
   "source": [
    "> Testing the model giving the 50 previous days"
   ]
  }
 ],
 "metadata": {
  "kernelspec": {
   "display_name": "Python 3 (ipykernel)",
   "language": "python",
   "name": "python3"
  },
  "language_info": {
   "codemirror_mode": {
    "name": "ipython",
    "version": 3
   },
   "file_extension": ".py",
   "mimetype": "text/x-python",
   "name": "python",
   "nbconvert_exporter": "python",
   "pygments_lexer": "ipython3",
   "version": "3.7.4"
  }
 },
 "nbformat": 4,
 "nbformat_minor": 2
}
