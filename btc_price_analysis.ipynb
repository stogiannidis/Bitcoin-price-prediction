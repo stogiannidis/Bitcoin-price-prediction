{
 "cells": [
  {
   "cell_type": "markdown",
   "metadata": {},
   "source": [
    "# Bitcoin Price Analysis \n",
    "\n",
    "> Diamantopoulos - Pantaleon Odyssefs p3180049 <br/>\n",
    "> Stogiannidis Ilias - Marios p3180178  <br />\n",
    "> Department of Informatics  <br />\n",
    "> Athens University of Economics and Business  <br />\n",
    "> p3180178@aueb.gr"
   ]
  },
  {
   "cell_type": "markdown",
   "metadata": {},
   "source": [
    "# Importing the Data"
   ]
  },
  {
   "cell_type": "code",
   "execution_count": 178,
   "metadata": {},
   "outputs": [],
   "source": [
    "import pandas as pd\n",
    "import numpy as np\n",
    "import seaborn as sns\n",
    "import matplotlib.pyplot as plt\n",
    "from matplotlib.dates import YearLocator, DateFormatter\n",
    "import warnings\n",
    "warnings.filterwarnings(\"ignore\")\n",
    "\n",
    "btc_data = pd.read_csv(\"BTC-USDv2.csv\")\n",
    "btc_data['Date'] = pd.to_datetime(btc_data['Date']) # Convert to datetime"
   ]
  },
  {
   "cell_type": "code",
   "execution_count": 179,
   "metadata": {
    "scrolled": false
   },
   "outputs": [
    {
     "data": {
      "text/html": [
       "<div>\n",
       "<style scoped>\n",
       "    .dataframe tbody tr th:only-of-type {\n",
       "        vertical-align: middle;\n",
       "    }\n",
       "\n",
       "    .dataframe tbody tr th {\n",
       "        vertical-align: top;\n",
       "    }\n",
       "\n",
       "    .dataframe thead th {\n",
       "        text-align: right;\n",
       "    }\n",
       "</style>\n",
       "<table border=\"1\" class=\"dataframe\">\n",
       "  <thead>\n",
       "    <tr style=\"text-align: right;\">\n",
       "      <th></th>\n",
       "      <th>Date</th>\n",
       "      <th>Open</th>\n",
       "      <th>High</th>\n",
       "      <th>Low</th>\n",
       "      <th>Close</th>\n",
       "      <th>Adj Close</th>\n",
       "      <th>Volume</th>\n",
       "    </tr>\n",
       "  </thead>\n",
       "  <tbody>\n",
       "    <tr>\n",
       "      <th>0</th>\n",
       "      <td>2017-11-09</td>\n",
       "      <td>7446.830</td>\n",
       "      <td>7446.830</td>\n",
       "      <td>7101.520</td>\n",
       "      <td>7143.580</td>\n",
       "      <td>7143.580</td>\n",
       "      <td>3226249984</td>\n",
       "    </tr>\n",
       "    <tr>\n",
       "      <th>1</th>\n",
       "      <td>2017-11-10</td>\n",
       "      <td>7173.730</td>\n",
       "      <td>7312.000</td>\n",
       "      <td>6436.870</td>\n",
       "      <td>6618.140</td>\n",
       "      <td>6618.140</td>\n",
       "      <td>5208249856</td>\n",
       "    </tr>\n",
       "    <tr>\n",
       "      <th>2</th>\n",
       "      <td>2017-11-11</td>\n",
       "      <td>6618.610</td>\n",
       "      <td>6873.150</td>\n",
       "      <td>6204.220</td>\n",
       "      <td>6357.600</td>\n",
       "      <td>6357.600</td>\n",
       "      <td>4908680192</td>\n",
       "    </tr>\n",
       "    <tr>\n",
       "      <th>3</th>\n",
       "      <td>2017-11-12</td>\n",
       "      <td>6295.450</td>\n",
       "      <td>6625.050</td>\n",
       "      <td>5519.010</td>\n",
       "      <td>5950.070</td>\n",
       "      <td>5950.070</td>\n",
       "      <td>8957349888</td>\n",
       "    </tr>\n",
       "    <tr>\n",
       "      <th>4</th>\n",
       "      <td>2017-11-13</td>\n",
       "      <td>5938.250</td>\n",
       "      <td>6811.190</td>\n",
       "      <td>5844.290</td>\n",
       "      <td>6559.490</td>\n",
       "      <td>6559.490</td>\n",
       "      <td>6263249920</td>\n",
       "    </tr>\n",
       "  </tbody>\n",
       "</table>\n",
       "</div>"
      ],
      "text/plain": [
       "        Date     Open     High      Low    Close  Adj Close      Volume\n",
       "0 2017-11-09 7446.830 7446.830 7101.520 7143.580   7143.580  3226249984\n",
       "1 2017-11-10 7173.730 7312.000 6436.870 6618.140   6618.140  5208249856\n",
       "2 2017-11-11 6618.610 6873.150 6204.220 6357.600   6357.600  4908680192\n",
       "3 2017-11-12 6295.450 6625.050 5519.010 5950.070   5950.070  8957349888\n",
       "4 2017-11-13 5938.250 6811.190 5844.290 6559.490   6559.490  6263249920"
      ]
     },
     "execution_count": 179,
     "metadata": {},
     "output_type": "execute_result"
    }
   ],
   "source": [
    "btc_data.head()"
   ]
  },
  {
   "cell_type": "code",
   "execution_count": 180,
   "metadata": {},
   "outputs": [
    {
     "data": {
      "text/plain": [
       "(1510, 7)"
      ]
     },
     "execution_count": 180,
     "metadata": {},
     "output_type": "execute_result"
    }
   ],
   "source": [
    "btc_data.shape"
   ]
  },
  {
   "cell_type": "markdown",
   "metadata": {},
   "source": [
    "> We are going to check if the prices of Close and Adjacent Close are the same in all instances."
   ]
  },
  {
   "cell_type": "code",
   "execution_count": 181,
   "metadata": {
    "scrolled": true
   },
   "outputs": [
    {
     "data": {
      "text/plain": [
       "0.0"
      ]
     },
     "execution_count": 181,
     "metadata": {},
     "output_type": "execute_result"
    }
   ],
   "source": [
    "(btc_data['Close'] - btc_data['Adj Close']).sum()"
   ]
  },
  {
   "cell_type": "markdown",
   "metadata": {},
   "source": [
    "> Since they are the same we are going to use only one of these two columns."
   ]
  },
  {
   "cell_type": "markdown",
   "metadata": {},
   "source": [
    "> We have to check if there are null values or zeros in the dataset"
   ]
  },
  {
   "cell_type": "code",
   "execution_count": 182,
   "metadata": {
    "scrolled": true
   },
   "outputs": [
    {
     "data": {
      "text/plain": [
       "Date         0\n",
       "Open         0\n",
       "High         0\n",
       "Low          0\n",
       "Close        0\n",
       "Adj Close    0\n",
       "Volume       0\n",
       "dtype: int64"
      ]
     },
     "execution_count": 182,
     "metadata": {},
     "output_type": "execute_result"
    }
   ],
   "source": [
    "btc_data.isna().sum()"
   ]
  },
  {
   "cell_type": "markdown",
   "metadata": {},
   "source": [
    "> We see that there are no null values so now we are going to check for zero values"
   ]
  },
  {
   "cell_type": "code",
   "execution_count": 183,
   "metadata": {
    "scrolled": true
   },
   "outputs": [
    {
     "data": {
      "text/html": [
       "<div>\n",
       "<style scoped>\n",
       "    .dataframe tbody tr th:only-of-type {\n",
       "        vertical-align: middle;\n",
       "    }\n",
       "\n",
       "    .dataframe tbody tr th {\n",
       "        vertical-align: top;\n",
       "    }\n",
       "\n",
       "    .dataframe thead th {\n",
       "        text-align: right;\n",
       "    }\n",
       "</style>\n",
       "<table border=\"1\" class=\"dataframe\">\n",
       "  <thead>\n",
       "    <tr style=\"text-align: right;\">\n",
       "      <th></th>\n",
       "      <th>Date</th>\n",
       "      <th>Open</th>\n",
       "      <th>High</th>\n",
       "      <th>Low</th>\n",
       "      <th>Close</th>\n",
       "      <th>Adj Close</th>\n",
       "      <th>Volume</th>\n",
       "    </tr>\n",
       "  </thead>\n",
       "  <tbody>\n",
       "  </tbody>\n",
       "</table>\n",
       "</div>"
      ],
      "text/plain": [
       "Empty DataFrame\n",
       "Columns: [Date, Open, High, Low, Close, Adj Close, Volume]\n",
       "Index: []"
      ]
     },
     "execution_count": 183,
     "metadata": {},
     "output_type": "execute_result"
    }
   ],
   "source": [
    "btc_data.query('Open==0 or High==0 or Low==0 or Close==0 or Volume ==0')"
   ]
  },
  {
   "cell_type": "markdown",
   "metadata": {},
   "source": [
    "> Time to visualize the data"
   ]
  },
  {
   "cell_type": "code",
   "execution_count": 184,
   "metadata": {},
   "outputs": [
    {
     "data": {
      "image/png": "[encoded data removed]",
      "text/plain": [
       "<Figure size 432x288 with 1 Axes>"
      ]
     },
     "metadata": {
      "needs_background": "light"
     },
     "output_type": "display_data"
    }
   ],
   "source": [
    "fig, ax = plt.subplots()\n",
    "plt.plot(btc_data['Date'], btc_data['High'],color=\"red\",label='High')\n",
    "plt.plot(btc_data['Date'], btc_data['Low'],color=\"blue\",label='Low')\n",
    "plt.plot(btc_data['Date'], btc_data['Close'],color=\"black\",label='Close')\n",
    "plt.plot(btc_data['Date'], btc_data['Open'],color=\"orange\",label='Open')\n",
    "\n",
    "\n",
    "ax = plt.gca()\n",
    "ax.xaxis.set_major_locator(YearLocator())\n",
    "\n",
    "plt.legend(loc=\"upper left\")\n",
    "\n",
    "ax.set_xlabel('Date')\n",
    "ax.set_ylabel('Price in Dollars')\n",
    "plt.show()\n",
    "\n",
    "\n"
   ]
  },
  {
   "cell_type": "code",
   "execution_count": 185,
   "metadata": {},
   "outputs": [
    {
     "data": {
      "image/png": "[encoded data removed]",
      "text/plain": [
       "<Figure size 432x288 with 1 Axes>"
      ]
     },
     "metadata": {
      "needs_background": "light"
     },
     "output_type": "display_data"
    }
   ],
   "source": [
    "fig, ax = plt.subplots()\n",
    "plt.plot(btc_data['Date'], btc_data['Volume'],color=\"blue\",label='Volume')\n",
    "\n",
    "ax = plt.gca()\n",
    "ax.xaxis.set_major_locator(YearLocator())\n",
    "\n",
    "ax.set_xlabel('Date')\n",
    "ax.set_ylabel('Volume')\n",
    "\n",
    "plt.legend(loc=\"upper left\")\n",
    "\n",
    "plt.show()"
   ]
  },
  {
   "cell_type": "markdown",
   "metadata": {},
   "source": [
    "> We are going to use the MinMax to normalize the values."
   ]
  },
  {
   "cell_type": "code",
   "execution_count": 186,
   "metadata": {
    "scrolled": true
   },
   "outputs": [
    {
     "data": {
      "text/html": [
       "<div>\n",
       "<style scoped>\n",
       "    .dataframe tbody tr th:only-of-type {\n",
       "        vertical-align: middle;\n",
       "    }\n",
       "\n",
       "    .dataframe tbody tr th {\n",
       "        vertical-align: top;\n",
       "    }\n",
       "\n",
       "    .dataframe thead tr th {\n",
       "        text-align: left;\n",
       "    }\n",
       "</style>\n",
       "<table border=\"1\" class=\"dataframe\">\n",
       "  <thead>\n",
       "    <tr>\n",
       "      <th></th>\n",
       "      <th>Close</th>\n",
       "      <th>Adj Close</th>\n",
       "      <th>Open</th>\n",
       "      <th>High</th>\n",
       "      <th>Volume</th>\n",
       "      <th>Low</th>\n",
       "    </tr>\n",
       "  </thead>\n",
       "  <tbody>\n",
       "    <tr>\n",
       "      <th>0</th>\n",
       "      <td>0.061</td>\n",
       "      <td>0.061</td>\n",
       "      <td>0.065</td>\n",
       "      <td>0.064</td>\n",
       "      <td>0.001</td>\n",
       "      <td>0.062</td>\n",
       "    </tr>\n",
       "    <tr>\n",
       "      <th>1</th>\n",
       "      <td>0.053</td>\n",
       "      <td>0.053</td>\n",
       "      <td>0.061</td>\n",
       "      <td>0.062</td>\n",
       "      <td>0.007</td>\n",
       "      <td>0.051</td>\n",
       "    </tr>\n",
       "    <tr>\n",
       "      <th>2</th>\n",
       "      <td>0.049</td>\n",
       "      <td>0.049</td>\n",
       "      <td>0.053</td>\n",
       "      <td>0.055</td>\n",
       "      <td>0.006</td>\n",
       "      <td>0.048</td>\n",
       "    </tr>\n",
       "    <tr>\n",
       "      <th>3</th>\n",
       "      <td>0.042</td>\n",
       "      <td>0.042</td>\n",
       "      <td>0.048</td>\n",
       "      <td>0.051</td>\n",
       "      <td>0.017</td>\n",
       "      <td>0.037</td>\n",
       "    </tr>\n",
       "    <tr>\n",
       "      <th>4</th>\n",
       "      <td>0.052</td>\n",
       "      <td>0.052</td>\n",
       "      <td>0.042</td>\n",
       "      <td>0.054</td>\n",
       "      <td>0.010</td>\n",
       "      <td>0.042</td>\n",
       "    </tr>\n",
       "    <tr>\n",
       "      <th>...</th>\n",
       "      <td>...</td>\n",
       "      <td>...</td>\n",
       "      <td>...</td>\n",
       "      <td>...</td>\n",
       "      <td>...</td>\n",
       "      <td>...</td>\n",
       "    </tr>\n",
       "    <tr>\n",
       "      <th>1505</th>\n",
       "      <td>0.739</td>\n",
       "      <td>0.739</td>\n",
       "      <td>0.706</td>\n",
       "      <td>0.734</td>\n",
       "      <td>0.073</td>\n",
       "      <td>0.710</td>\n",
       "    </tr>\n",
       "    <tr>\n",
       "      <th>1506</th>\n",
       "      <td>0.740</td>\n",
       "      <td>0.740</td>\n",
       "      <td>0.740</td>\n",
       "      <td>0.741</td>\n",
       "      <td>0.062</td>\n",
       "      <td>0.749</td>\n",
       "    </tr>\n",
       "    <tr>\n",
       "      <th>1507</th>\n",
       "      <td>0.734</td>\n",
       "      <td>0.734</td>\n",
       "      <td>0.740</td>\n",
       "      <td>0.731</td>\n",
       "      <td>0.046</td>\n",
       "      <td>0.744</td>\n",
       "    </tr>\n",
       "    <tr>\n",
       "      <th>1508</th>\n",
       "      <td>0.740</td>\n",
       "      <td>0.740</td>\n",
       "      <td>0.734</td>\n",
       "      <td>0.731</td>\n",
       "      <td>0.052</td>\n",
       "      <td>0.735</td>\n",
       "    </tr>\n",
       "    <tr>\n",
       "      <th>1509</th>\n",
       "      <td>0.754</td>\n",
       "      <td>0.754</td>\n",
       "      <td>0.740</td>\n",
       "      <td>0.743</td>\n",
       "      <td>0.061</td>\n",
       "      <td>0.749</td>\n",
       "    </tr>\n",
       "  </tbody>\n",
       "</table>\n",
       "<p>1510 rows × 6 columns</p>\n",
       "</div>"
      ],
      "text/plain": [
       "     Close Adj Close  Open  High Volume   Low\n",
       "0    0.061     0.061 0.065 0.064  0.001 0.062\n",
       "1    0.053     0.053 0.061 0.062  0.007 0.051\n",
       "2    0.049     0.049 0.053 0.055  0.006 0.048\n",
       "3    0.042     0.042 0.048 0.051  0.017 0.037\n",
       "4    0.052     0.052 0.042 0.054  0.010 0.042\n",
       "...    ...       ...   ...   ...    ...   ...\n",
       "1505 0.739     0.739 0.706 0.734  0.073 0.710\n",
       "1506 0.740     0.740 0.740 0.741  0.062 0.749\n",
       "1507 0.734     0.734 0.740 0.731  0.046 0.744\n",
       "1508 0.740     0.740 0.734 0.731  0.052 0.735\n",
       "1509 0.754     0.754 0.740 0.743  0.061 0.749\n",
       "\n",
       "[1510 rows x 6 columns]"
      ]
     },
     "execution_count": 186,
     "metadata": {},
     "output_type": "execute_result"
    }
   ],
   "source": [
    "from sklearn.preprocessing import StandardScaler,MinMaxScaler\n",
    "\n",
    "scaler = MinMaxScaler(feature_range=(0,1)) #https://scikit-learn.org/stable/modules/generated/sklearn.preprocessing.StandardScaler.html\n",
    "X = scaler.fit_transform(btc_data[['Close', 'Adj Close','Open','High','Volume','Low']])\n",
    "btc = pd.DataFrame(X, columns=[['Close', 'Adj Close','Open','High','Volume','Low']])\n",
    "btc"
   ]
  },
  {
   "cell_type": "markdown",
   "metadata": {},
   "source": [
    "We are going to find the correlation among the variables"
   ]
  },
  {
   "cell_type": "code",
   "execution_count": 187,
   "metadata": {},
   "outputs": [
    {
     "data": {
      "text/html": [
       "<div>\n",
       "<style scoped>\n",
       "    .dataframe tbody tr th:only-of-type {\n",
       "        vertical-align: middle;\n",
       "    }\n",
       "\n",
       "    .dataframe tbody tr th {\n",
       "        vertical-align: top;\n",
       "    }\n",
       "\n",
       "    .dataframe thead tr th {\n",
       "        text-align: left;\n",
       "    }\n",
       "</style>\n",
       "<table border=\"1\" class=\"dataframe\">\n",
       "  <thead>\n",
       "    <tr>\n",
       "      <th></th>\n",
       "      <th>Close</th>\n",
       "      <th>Adj Close</th>\n",
       "      <th>Open</th>\n",
       "      <th>High</th>\n",
       "      <th>Volume</th>\n",
       "      <th>Low</th>\n",
       "    </tr>\n",
       "  </thead>\n",
       "  <tbody>\n",
       "    <tr>\n",
       "      <th>Close</th>\n",
       "      <td>1.000</td>\n",
       "      <td>1.000</td>\n",
       "      <td>0.998</td>\n",
       "      <td>0.999</td>\n",
       "      <td>0.608</td>\n",
       "      <td>0.999</td>\n",
       "    </tr>\n",
       "    <tr>\n",
       "      <th>Adj Close</th>\n",
       "      <td>1.000</td>\n",
       "      <td>1.000</td>\n",
       "      <td>0.998</td>\n",
       "      <td>0.999</td>\n",
       "      <td>0.608</td>\n",
       "      <td>0.999</td>\n",
       "    </tr>\n",
       "    <tr>\n",
       "      <th>Open</th>\n",
       "      <td>0.998</td>\n",
       "      <td>0.998</td>\n",
       "      <td>1.000</td>\n",
       "      <td>0.999</td>\n",
       "      <td>0.609</td>\n",
       "      <td>0.999</td>\n",
       "    </tr>\n",
       "    <tr>\n",
       "      <th>High</th>\n",
       "      <td>0.999</td>\n",
       "      <td>0.999</td>\n",
       "      <td>0.999</td>\n",
       "      <td>1.000</td>\n",
       "      <td>0.615</td>\n",
       "      <td>0.999</td>\n",
       "    </tr>\n",
       "    <tr>\n",
       "      <th>Volume</th>\n",
       "      <td>0.608</td>\n",
       "      <td>0.608</td>\n",
       "      <td>0.609</td>\n",
       "      <td>0.615</td>\n",
       "      <td>1.000</td>\n",
       "      <td>0.598</td>\n",
       "    </tr>\n",
       "    <tr>\n",
       "      <th>Low</th>\n",
       "      <td>0.999</td>\n",
       "      <td>0.999</td>\n",
       "      <td>0.999</td>\n",
       "      <td>0.999</td>\n",
       "      <td>0.598</td>\n",
       "      <td>1.000</td>\n",
       "    </tr>\n",
       "  </tbody>\n",
       "</table>\n",
       "</div>"
      ],
      "text/plain": [
       "          Close Adj Close  Open  High Volume   Low\n",
       "Close     1.000     1.000 0.998 0.999  0.608 0.999\n",
       "Adj Close 1.000     1.000 0.998 0.999  0.608 0.999\n",
       "Open      0.998     0.998 1.000 0.999  0.609 0.999\n",
       "High      0.999     0.999 0.999 1.000  0.615 0.999\n",
       "Volume    0.608     0.608 0.609 0.615  1.000 0.598\n",
       "Low       0.999     0.999 0.999 0.999  0.598 1.000"
      ]
     },
     "execution_count": 187,
     "metadata": {},
     "output_type": "execute_result"
    }
   ],
   "source": [
    "corr = btc.corr()\n",
    "corr"
   ]
  },
  {
   "cell_type": "markdown",
   "metadata": {},
   "source": [
    "> Importing the machine learning methods"
   ]
  },
  {
   "cell_type": "code",
   "execution_count": 188,
   "metadata": {},
   "outputs": [],
   "source": [
    "from sklearn.linear_model import LogisticRegression\n",
    "from sklearn.linear_model import LinearRegression\n",
    "from sklearn.model_selection import train_test_split\n",
    "from sklearn.model_selection import cross_val_score\n",
    "from sklearn import metrics\n",
    "from sklearn import datasets\n",
    "from sklearn.model_selection import KFold,TimeSeriesSplit\n",
    "import statsmodels.api as sm\n",
    "from sklearn.model_selection import cross_val_predict\n",
    "import matplotlib.pyplot as plt\n",
    "\n",
    "#https://stackoverflow.com/questions/58163026/what-is-difference-between-metrics-r2-score-and-acccuracy-score/58163220"
   ]
  },
  {
   "cell_type": "markdown",
   "metadata": {},
   "source": [
    "## Linear Regression\n",
    "\n",
    "> Conduct cross validation using the Time split method because we want to control the chronology of the data used for training"
   ]
  },
  {
   "cell_type": "markdown",
   "metadata": {},
   "source": [
    "model = LinearRegression()\n",
    "# evaluate model\n",
    "scores = cross_val_score(model, btc[['Open','High','Volume','Low']], btc['Close'], scoring='r2', cv=cv, n_jobs=-1)\n",
    "# report performance\n",
    "scores"
   ]
  },
  {
   "cell_type": "code",
   "execution_count": 189,
   "metadata": {
    "scrolled": false
   },
   "outputs": [
    {
     "name": "stdout",
     "output_type": "stream",
     "text": [
      "1 of KFold 10\n",
      "Score: 0.9907528792808834\n",
      "Mean squared error: 2.2613461109581828e-06\n",
      "2 of KFold 10\n",
      "Score: 0.9927226304747311\n",
      "Mean squared error: 2.6739667829362163e-06\n",
      "3 of KFold 10\n",
      "Score: 0.9592762081592875\n",
      "Mean squared error: 7.50445157832767e-06\n",
      "4 of KFold 10\n",
      "Score: 0.9861227803495584\n",
      "Mean squared error: 5.595529491778805e-06\n",
      "5 of KFold 10\n",
      "Score: 0.9868412970618526\n",
      "Mean squared error: 2.1851490249901053e-06\n",
      "6 of KFold 10\n",
      "Score: 0.992954254791606\n",
      "Mean squared error: 3.3933837497469295e-06\n",
      "7 of KFold 10\n",
      "Score: 0.9969458212707586\n",
      "Mean squared error: 1.7838096589038738e-06\n",
      "8 of KFold 10\n",
      "Score: 0.995771516687892\n",
      "Mean squared error: 0.00020357100644073124\n",
      "9 of KFold 10\n",
      "Score: 0.9938222110137763\n",
      "Mean squared error: 0.00015522649339473843\n",
      "10 of KFold 10\n",
      "Score: 0.9885469941353374\n",
      "Mean squared error: 0.00013174246602562566\n"
     ]
    }
   ],
   "source": [
    "X = btc[['Open','High','Volume','Low']]\n",
    "y = btc['Close']\n",
    "kf = TimeSeriesSplit(n_splits=10,max_train_size =365) #365 because of the dates\n",
    "scores =[]\n",
    "losses = []\n",
    "i=1\n",
    "\n",
    "for train_index,test_index in kf.split(X,y):\n",
    "    print('{} of KFold {}'.format(i,kf.n_splits))\n",
    "    xtrain,xtest = X.loc[train_index],X.loc[test_index]\n",
    "    ytrain,ytest = y.loc[train_index],y.loc[test_index]\n",
    "    \n",
    "    #model\n",
    "    lr = LinearRegression()\n",
    "    lr.fit(xtrain,ytrain)\n",
    "    score =lr.score(xtest,ytest)\n",
    "    loss = metrics.mean_squared_error(ytest,lr.predict(xtest)) \n",
    "    print('Score:',score)\n",
    "    print('Mean squared error:',loss) #Elaxistopoiisi sinartisis lathon\n",
    "    scores.append(score) \n",
    "    losses.append(loss)   \n",
    "    i+=1\n",
    "    \"\"\"fig,ax = plt.subplots()\n",
    "    ax.plot(xtrain,lr.predict(xtrain),color='red')\n",
    "    plt.show\"\"\""
   ]
  },
  {
   "cell_type": "code",
   "execution_count": 190,
   "metadata": {
    "scrolled": true
   },
   "outputs": [
    {
     "data": {
      "image/png": "[encoded data removed]",
      "text/plain": [
       "<Figure size 432x288 with 1 Axes>"
      ]
     },
     "metadata": {
      "needs_background": "light"
     },
     "output_type": "display_data"
    }
   ],
   "source": [
    "#Plotting KFold Linear Regression R2 scores\n",
    "fig, ax = plt.subplots()\n",
    "plt.plot(scores)\n",
    "ax.set_xlabel('Number of Fold')\n",
    "ax.set_ylabel('R2 score')\n",
    "plt.show()"
   ]
  },
  {
   "cell_type": "code",
   "execution_count": 191,
   "metadata": {
    "scrolled": true
   },
   "outputs": [
    {
     "data": {
      "image/png": "[encoded data removed]",
      "text/plain": [
       "<Figure size 432x288 with 1 Axes>"
      ]
     },
     "metadata": {
      "needs_background": "light"
     },
     "output_type": "display_data"
    }
   ],
   "source": [
    "#Plotting KFold Linear Regression ROC scores\n",
    "fig, ax = plt.subplots()\n",
    "plt.plot(losses)\n",
    "ax.set_xlabel('Number of Fold')\n",
    "ax.set_ylabel('Mean Squared Error Loss')\n",
    "plt.show()"
   ]
  },
  {
   "cell_type": "markdown",
   "metadata": {},
   "source": [
    "## Logistic Regression"
   ]
  },
  {
   "cell_type": "markdown",
   "metadata": {},
   "source": [
    "> Creating a new column that contains the difference of the openning with the closing price."
   ]
  },
  {
   "cell_type": "code",
   "execution_count": 192,
   "metadata": {},
   "outputs": [],
   "source": [
    "btc_data['PosNegClosing'] = btc_data['Open']- btc_data['Close']"
   ]
  },
  {
   "cell_type": "markdown",
   "metadata": {},
   "source": [
    "> Then putting to all negative values the value 0 and to all posivite the value 1 in order to have a column with binary data."
   ]
  },
  {
   "cell_type": "code",
   "execution_count": 193,
   "metadata": {},
   "outputs": [],
   "source": [
    "btc_data['PosNegClosing'].mask(btc_data['PosNegClosing']>0,1,inplace=True)"
   ]
  },
  {
   "cell_type": "code",
   "execution_count": 194,
   "metadata": {},
   "outputs": [],
   "source": [
    "btc_data['PosNegClosing'].mask(btc_data['PosNegClosing']<0,0,inplace=True)"
   ]
  },
  {
   "cell_type": "code",
   "execution_count": 195,
   "metadata": {
    "scrolled": true
   },
   "outputs": [
    {
     "data": {
      "text/plain": [
       "1.0"
      ]
     },
     "execution_count": 195,
     "metadata": {},
     "output_type": "execute_result"
    }
   ],
   "source": [
    "btc_data['PosNegClosing'].max()"
   ]
  },
  {
   "cell_type": "code",
   "execution_count": 196,
   "metadata": {
    "scrolled": true
   },
   "outputs": [
    {
     "data": {
      "text/plain": [
       "0.0"
      ]
     },
     "execution_count": 196,
     "metadata": {},
     "output_type": "execute_result"
    }
   ],
   "source": [
    "btc_data['PosNegClosing'].min()"
   ]
  },
  {
   "cell_type": "markdown",
   "metadata": {},
   "source": [
    "> Put our data to X and Y dataframes"
   ]
  },
  {
   "cell_type": "code",
   "execution_count": 197,
   "metadata": {},
   "outputs": [],
   "source": [
    "X = btc[['Open','High','Volume','Low','Close']]\n",
    "y = btc_data['PosNegClosing']"
   ]
  },
  {
   "cell_type": "markdown",
   "metadata": {},
   "source": [
    "> Conduct Logistic regression to 10 different kfolds and report their performances."
   ]
  },
  {
   "cell_type": "code",
   "execution_count": 198,
   "metadata": {
    "scrolled": true
   },
   "outputs": [
    {
     "name": "stdout",
     "output_type": "stream",
     "text": [
      "1 of KFold 10\n",
      "Score: 0.5474452554744526\n",
      "Log Loss: 15.630687127623814\n",
      "2 of KFold 10\n",
      "Score: 0.48175182481751827\n",
      "Log Loss: 17.899657839698236\n",
      "3 of KFold 10\n",
      "Score: 0.5985401459854015\n",
      "Log Loss: 13.865932129343706\n",
      "4 of KFold 10\n",
      "Score: 0.5109489051094891\n",
      "Log Loss: 16.891226412109603\n",
      "5 of KFold 10\n",
      "Score: 0.48905109489051096\n",
      "Log Loss: 17.647549982801078\n",
      "6 of KFold 10\n",
      "Score: 0.5036496350364964\n",
      "Log Loss: 17.14333426900676\n",
      "7 of KFold 10\n",
      "Score: 0.40145985401459855\n",
      "Log Loss: 20.673322856729577\n",
      "8 of KFold 10\n",
      "Score: 0.5766423357664233\n",
      "Log Loss: 14.62225570003518\n",
      "9 of KFold 10\n",
      "Score: 0.48175182481751827\n",
      "Log Loss: 17.899657839698236\n",
      "10 of KFold 10\n",
      "Score: 0.6058394160583942\n",
      "Log Loss: 13.61396434790877\n"
     ]
    }
   ],
   "source": [
    "kf = TimeSeriesSplit(n_splits=10,max_train_size =365)\n",
    "scores =[]\n",
    "losses = []\n",
    "i=1\n",
    "\n",
    "for train_index,test_index in kf.split(X,y):\n",
    "    print('{} of KFold {}'.format(i,kf.n_splits))\n",
    "    xtrain,xtest = X.loc[train_index],X.loc[test_index]\n",
    "    ytrain,ytest = y.loc[train_index],y.loc[test_index]\n",
    "    \n",
    "    #model\n",
    "    lr = LogisticRegression()\n",
    "    lr.fit(xtrain,ytrain)\n",
    "    score = lr.score(xtest,ytest)\n",
    "    loss = metrics.log_loss(ytest,lr.predict(xtest))\n",
    "    print('Score:',score)\n",
    "    print('Log Loss:',loss) #we cant use mse https://www.analyticsvidhya.com/blog/2020/11/binary-cross-entropy-aka-log-loss-the-cost-function-used-in-logistic-regression/\n",
    "    scores.append(score) \n",
    "    losses.append(loss)   \n",
    "    i+=1\n",
    "   "
   ]
  },
  {
   "cell_type": "code",
   "execution_count": 199,
   "metadata": {
    "scrolled": true
   },
   "outputs": [
    {
     "data": {
      "image/png": "[encoded data removed]",
      "text/plain": [
       "<Figure size 432x288 with 1 Axes>"
      ]
     },
     "metadata": {
      "needs_background": "light"
     },
     "output_type": "display_data"
    }
   ],
   "source": [
    "#Plotting KFold Logistic Regression ROC scores\n",
    "fig, ax = plt.subplots()\n",
    "plt.plot(scores)\n",
    "ax.set_xlabel('Number of Fold')\n",
    "ax.set_ylabel('Score')\n",
    "plt.show()"
   ]
  },
  {
   "cell_type": "code",
   "execution_count": 200,
   "metadata": {},
   "outputs": [
    {
     "data": {
      "image/png": "[encoded data removed]",
      "text/plain": [
       "<Figure size 432x288 with 1 Axes>"
      ]
     },
     "metadata": {
      "needs_background": "light"
     },
     "output_type": "display_data"
    }
   ],
   "source": [
    "fig, ax = plt.subplots()\n",
    "plt.plot(losses)\n",
    "ax.set_xlabel('Number of Fold')\n",
    "ax.set_ylabel('Log Loss')\n",
    "plt.show()"
   ]
  },
  {
   "cell_type": "markdown",
   "metadata": {},
   "source": [
    "## Neural Network"
   ]
  },
  {
   "cell_type": "markdown",
   "metadata": {},
   "source": [
    "> Importing tensorflow"
   ]
  },
  {
   "cell_type": "code",
   "execution_count": 201,
   "metadata": {},
   "outputs": [],
   "source": [
    "import tensorflow as tf\n",
    "from tensorflow import keras\n",
    "import os\n",
    "import numpy as np\n",
    "np.set_printoptions(suppress=True)\n",
    "import pandas as pd\n",
    "pd.set_option('display.float_format', lambda x: '%.3f' % x) #avoid scientific notation\n",
    "import datetime\n",
    "import math\n",
    "from matplotlib import pyplot as plt\n",
    "from keras.models import Sequential, load_model\n",
    "from keras.layers import Dense, LSTM, Dropout\n",
    "from keras.callbacks import EarlyStopping\n",
    "from keras import optimizers\n",
    "from sklearn.preprocessing import MinMaxScaler\n",
    "from sklearn.metrics import mean_squared_error, mean_absolute_error, explained_variance_score"
   ]
  },
  {
   "cell_type": "code",
   "execution_count": 202,
   "metadata": {},
   "outputs": [],
   "source": [
    "# number of past observations to be considered for the LSTM training and prediction\n",
    "n_past = 50\n",
    "\n",
    "# number of future datapoints to predict (if higher than 1, the model switch to Multi-Step)\n",
    "n_future = 1\n",
    "\n",
    "# activation function used for the RNN (softsign, relu, sigmoid)\n",
    "activation = 'relu'\n",
    "\n",
    "# dropout for the hidden layers\n",
    "dropout = 0.2\n",
    "\n",
    "# number of hidden layers\n",
    "n_layers = 2\n",
    "\n",
    "# number of neurons of the hidden layers\n",
    "n_neurons = 20\n",
    "\n",
    "# features to be considered for training (if only one is Close, then its Univariate, if more, then it's Multivariate)\n",
    "features = ['Close', 'Volume']\n",
    "#features = ['Close']\n",
    "\n",
    "# number of inputs features (if higher than 1, )\n",
    "n_features = len(features)\n",
    "\n",
    "# patience for the early stopping (number of epochs)\n",
    "patience = 25\n",
    "\n",
    "# optimizer (adam, RMSprop)\n",
    "optimizer='adam'"
   ]
  },
  {
   "cell_type": "code",
   "execution_count": 203,
   "metadata": {},
   "outputs": [],
   "source": [
    "df = btc_data.set_index('Date')[features]\n",
    "df = df.set_index(pd.to_datetime(df.index))\n",
    "df.dropna(inplace=True)"
   ]
  },
  {
   "cell_type": "code",
   "execution_count": 204,
   "metadata": {},
   "outputs": [
    {
     "name": "stdout",
     "output_type": "stream",
     "text": [
      "training_set.shape:\t (1510, 2)\n"
     ]
    }
   ],
   "source": [
    "training_set = df.values\n",
    "print('training_set.shape:\\t', training_set.shape)"
   ]
  },
  {
   "cell_type": "code",
   "execution_count": 205,
   "metadata": {},
   "outputs": [
    {
     "name": "stdout",
     "output_type": "stream",
     "text": [
      "training_set_scaled.shape:  (1510, 2)\n"
     ]
    },
    {
     "data": {
      "text/plain": [
       "array([[0.06073083, 0.00086937],\n",
       "       [0.05256296, 0.00656405],\n",
       "       [0.0485129 , 0.00570333],\n",
       "       ...,\n",
       "       [0.73360872, 0.04627854],\n",
       "       [0.73951041, 0.05183451],\n",
       "       [0.75376818, 0.06094721]])"
      ]
     },
     "execution_count": 205,
     "metadata": {},
     "output_type": "execute_result"
    }
   ],
   "source": [
    "# scale\n",
    "sc = MinMaxScaler(feature_range=(0,1))\n",
    "training_set_scaled = sc.fit_transform(training_set)\n",
    "print('training_set_scaled.shape: ', training_set_scaled.shape)\n",
    "training_set_scaled"
   ]
  },
  {
   "cell_type": "code",
   "execution_count": 206,
   "metadata": {},
   "outputs": [
    {
     "data": {
      "text/plain": [
       "((1460, 50, 2), (1460, 1))"
      ]
     },
     "execution_count": 206,
     "metadata": {},
     "output_type": "execute_result"
    }
   ],
   "source": [
    "# creating a data structure with 60 timesteps and 1 output\n",
    "X_train = []\n",
    "y_train = []\n",
    "\n",
    "for i in range(n_past, len(training_set_scaled) - n_future + 1):\n",
    "    X_train.append(training_set_scaled[i-n_past:i, :])\n",
    "    y_train.append(training_set_scaled[i:i+n_future, 0])\n",
    "\n",
    "X_train, y_train = np.array(X_train), np.array(y_train)\n",
    "X_train.shape, y_train.shape"
   ]
  },
  {
   "cell_type": "code",
   "execution_count": 207,
   "metadata": {},
   "outputs": [
    {
     "data": {
      "text/plain": [
       "(1460, 50, 2)"
      ]
     },
     "execution_count": 207,
     "metadata": {},
     "output_type": "execute_result"
    }
   ],
   "source": [
    "# reshaping (needed to fit RNN)\n",
    "X_train = np.reshape(X_train, (X_train.shape[0], X_train.shape[1], n_features))\n",
    "X_train.shape"
   ]
  },
  {
   "cell_type": "markdown",
   "metadata": {},
   "source": [
    "> Building the model"
   ]
  },
  {
   "cell_type": "code",
   "execution_count": 208,
   "metadata": {},
   "outputs": [
    {
     "name": "stdout",
     "output_type": "stream",
     "text": [
      "Model: \"sequential_5\"\n",
      "_________________________________________________________________\n",
      " Layer (type)                Output Shape              Param #   \n",
      "=================================================================\n",
      " lstm_20 (LSTM)              (None, 50, 50)            10600     \n",
      "                                                                 \n",
      " dropout_15 (Dropout)        (None, 50, 50)            0         \n",
      "                                                                 \n",
      " lstm_21 (LSTM)              (None, 50, 20)            5680      \n",
      "                                                                 \n",
      " dropout_16 (Dropout)        (None, 50, 20)            0         \n",
      "                                                                 \n",
      " lstm_22 (LSTM)              (None, 50, 20)            3280      \n",
      "                                                                 \n",
      " dropout_17 (Dropout)        (None, 50, 20)            0         \n",
      "                                                                 \n",
      " lstm_23 (LSTM)              (None, 20)                3280      \n",
      "                                                                 \n",
      " dense_5 (Dense)             (None, 1)                 21        \n",
      "                                                                 \n",
      "=================================================================\n",
      "Total params: 22,861\n",
      "Trainable params: 22,861\n",
      "Non-trainable params: 0\n",
      "_________________________________________________________________\n"
     ]
    }
   ],
   "source": [
    "# Building the RNN\n",
    "\n",
    "# Initialising the RNN\n",
    "regressor = Sequential()\n",
    "\n",
    "# Input layer\n",
    "regressor.add(LSTM(units=n_past, return_sequences=True, activation=activation, input_shape=(X_train.shape[1], n_features))) \n",
    "#regressor.add(LSTM(units=neurons, return_sequences=True, activation=activation, input_shape=(X_train.shape[1], 1))) \n",
    "\n",
    "# Hidden layers\n",
    "for _ in range(n_layers):\n",
    "    regressor.add(Dropout(dropout))\n",
    "    regressor.add(LSTM(units=n_neurons, return_sequences=True, activation=activation))\n",
    "\n",
    "# Last hidden layer (changing the return_sequences)\n",
    "regressor.add(Dropout(dropout))\n",
    "regressor.add(LSTM(units=n_neurons, return_sequences=False, activation=activation))\n",
    "\n",
    "# Adding the output layer\n",
    "regressor.add(Dense(units=n_future))\n",
    "\n",
    "# Compiling the RNN\n",
    "regressor.compile(optimizer=optimizer, loss='mean_squared_error')\n",
    "\n",
    "# Model summary\n",
    "regressor.summary()"
   ]
  },
  {
   "cell_type": "code",
   "execution_count": 209,
   "metadata": {},
   "outputs": [],
   "source": [
    "# Adding early stopping\n",
    "early_stop = EarlyStopping(monitor='val_loss', mode='min', verbose=1, patience=patience)"
   ]
  },
  {
   "cell_type": "code",
   "execution_count": 210,
   "metadata": {},
   "outputs": [
    {
     "name": "stdout",
     "output_type": "stream",
     "text": [
      "Epoch 1/750\n",
      "42/42 [==============================] - 8s 65ms/step - loss: 0.0359 - val_loss: 0.1442\n",
      "Epoch 2/750\n",
      "42/42 [==============================] - 2s 51ms/step - loss: 0.0069 - val_loss: 0.0191\n",
      "Epoch 3/750\n",
      "42/42 [==============================] - 2s 47ms/step - loss: 0.0031 - val_loss: 0.0093\n",
      "Epoch 4/750\n",
      "42/42 [==============================] - 2s 47ms/step - loss: 0.0028 - val_loss: 0.0107\n",
      "Epoch 5/750\n",
      "42/42 [==============================] - 2s 47ms/step - loss: 0.0026 - val_loss: 0.0147\n",
      "Epoch 6/750\n",
      "42/42 [==============================] - 2s 50ms/step - loss: 0.0025 - val_loss: 0.0130\n",
      "Epoch 7/750\n",
      "42/42 [==============================] - 2s 54ms/step - loss: 0.0022 - val_loss: 0.0069\n",
      "Epoch 8/750\n",
      "42/42 [==============================] - 2s 48ms/step - loss: 0.0022 - val_loss: 0.0127\n",
      "Epoch 9/750\n",
      "42/42 [==============================] - 2s 49ms/step - loss: 0.0020 - val_loss: 0.0077\n",
      "Epoch 10/750\n",
      "42/42 [==============================] - 2s 42ms/step - loss: 0.0026 - val_loss: 0.0109\n",
      "Epoch 11/750\n",
      "42/42 [==============================] - 2s 51ms/step - loss: 0.0024 - val_loss: 0.0064\n",
      "Epoch 12/750\n",
      "42/42 [==============================] - 2s 44ms/step - loss: 0.0021 - val_loss: 0.0083\n",
      "Epoch 13/750\n",
      "42/42 [==============================] - 2s 45ms/step - loss: 0.0021 - val_loss: 0.0107\n",
      "Epoch 14/750\n",
      "42/42 [==============================] - 2s 44ms/step - loss: 0.0020 - val_loss: 0.0211\n",
      "Epoch 15/750\n",
      "42/42 [==============================] - 2s 42ms/step - loss: 0.0023 - val_loss: 0.0088\n",
      "Epoch 16/750\n",
      "42/42 [==============================] - 2s 45ms/step - loss: 0.0023 - val_loss: 0.0090\n",
      "Epoch 17/750\n",
      "42/42 [==============================] - 2s 43ms/step - loss: 0.0018 - val_loss: 0.0117\n",
      "Epoch 18/750\n",
      "42/42 [==============================] - 2s 43ms/step - loss: 0.0017 - val_loss: 0.0135\n",
      "Epoch 19/750\n",
      "42/42 [==============================] - 2s 44ms/step - loss: 0.0021 - val_loss: 0.0077\n",
      "Epoch 20/750\n",
      "42/42 [==============================] - 2s 44ms/step - loss: 0.0020 - val_loss: 0.0056\n",
      "Epoch 21/750\n",
      "42/42 [==============================] - 2s 43ms/step - loss: 0.0023 - val_loss: 0.0107\n",
      "Epoch 22/750\n",
      "42/42 [==============================] - 2s 45ms/step - loss: 0.0020 - val_loss: 0.0136\n",
      "Epoch 23/750\n",
      "42/42 [==============================] - 2s 45ms/step - loss: 0.0017 - val_loss: 0.0101\n",
      "Epoch 24/750\n",
      "42/42 [==============================] - 2s 44ms/step - loss: 0.0018 - val_loss: 0.0122\n",
      "Epoch 25/750\n",
      "42/42 [==============================] - 2s 44ms/step - loss: 0.0020 - val_loss: 0.0077\n",
      "Epoch 26/750\n",
      "42/42 [==============================] - 2s 42ms/step - loss: 0.0016 - val_loss: 0.0139\n",
      "Epoch 27/750\n",
      "42/42 [==============================] - 2s 42ms/step - loss: 0.0018 - val_loss: 0.0070\n",
      "Epoch 28/750\n",
      "42/42 [==============================] - 2s 42ms/step - loss: 0.0016 - val_loss: 0.0056\n",
      "Epoch 29/750\n",
      "42/42 [==============================] - 2s 45ms/step - loss: 0.0021 - val_loss: 0.0216\n",
      "Epoch 30/750\n",
      "42/42 [==============================] - 2s 48ms/step - loss: 0.0017 - val_loss: 0.0241\n",
      "Epoch 31/750\n",
      "42/42 [==============================] - 2s 43ms/step - loss: 0.0016 - val_loss: 0.0119\n",
      "Epoch 32/750\n",
      "42/42 [==============================] - 2s 55ms/step - loss: 0.0015 - val_loss: 0.0198\n",
      "Epoch 33/750\n",
      "42/42 [==============================] - 2s 51ms/step - loss: 0.0016 - val_loss: 0.0088\n",
      "Epoch 34/750\n",
      "42/42 [==============================] - 2s 49ms/step - loss: 0.0017 - val_loss: 0.0125\n",
      "Epoch 35/750\n",
      "42/42 [==============================] - 2s 49ms/step - loss: 0.0015 - val_loss: 0.0127\n",
      "Epoch 36/750\n",
      "42/42 [==============================] - 2s 46ms/step - loss: 0.0013 - val_loss: 0.0059\n",
      "Epoch 37/750\n",
      "42/42 [==============================] - 2s 50ms/step - loss: 0.0082 - val_loss: 0.0062\n",
      "Epoch 38/750\n",
      "42/42 [==============================] - 2s 48ms/step - loss: 0.0028 - val_loss: 0.0103\n",
      "Epoch 39/750\n",
      "42/42 [==============================] - 2s 47ms/step - loss: 0.0021 - val_loss: 0.0064\n",
      "Epoch 40/750\n",
      "42/42 [==============================] - 2s 53ms/step - loss: 0.0019 - val_loss: 0.0067\n",
      "Epoch 41/750\n",
      "42/42 [==============================] - 2s 48ms/step - loss: 0.0017 - val_loss: 0.0105\n",
      "Epoch 42/750\n",
      "42/42 [==============================] - 2s 42ms/step - loss: 0.0017 - val_loss: 0.0107\n",
      "Epoch 43/750\n",
      "42/42 [==============================] - 2s 44ms/step - loss: 0.0016 - val_loss: 0.0140\n",
      "Epoch 44/750\n",
      "42/42 [==============================] - 2s 45ms/step - loss: 0.0014 - val_loss: 0.0054\n",
      "Epoch 45/750\n",
      "42/42 [==============================] - 2s 44ms/step - loss: 0.0015 - val_loss: 0.0053\n",
      "Epoch 46/750\n",
      "42/42 [==============================] - 2s 48ms/step - loss: 0.0014 - val_loss: 0.0103\n",
      "Epoch 47/750\n",
      "42/42 [==============================] - 2s 45ms/step - loss: 0.0018 - val_loss: 0.0060\n",
      "Epoch 48/750\n",
      "42/42 [==============================] - 2s 44ms/step - loss: 0.0015 - val_loss: 0.0081\n",
      "Epoch 49/750\n",
      "42/42 [==============================] - 2s 47ms/step - loss: 0.0014 - val_loss: 0.0049\n",
      "Epoch 50/750\n",
      "42/42 [==============================] - 2s 50ms/step - loss: 0.0012 - val_loss: 0.0035\n",
      "Epoch 51/750\n",
      "42/42 [==============================] - 2s 46ms/step - loss: 0.0015 - val_loss: 0.0080\n",
      "Epoch 52/750\n",
      "42/42 [==============================] - 2s 44ms/step - loss: 0.0013 - val_loss: 0.0055\n",
      "Epoch 53/750\n",
      "42/42 [==============================] - 2s 44ms/step - loss: 0.0012 - val_loss: 0.0101\n",
      "Epoch 54/750\n",
      "42/42 [==============================] - 2s 45ms/step - loss: 0.0012 - val_loss: 0.0089\n",
      "Epoch 55/750\n",
      "42/42 [==============================] - 2s 45ms/step - loss: 0.0018 - val_loss: 0.0053\n",
      "Epoch 56/750\n",
      "42/42 [==============================] - 2s 46ms/step - loss: 0.0012 - val_loss: 0.0045\n",
      "Epoch 57/750\n",
      "42/42 [==============================] - 2s 46ms/step - loss: 0.0012 - val_loss: 0.0032\n",
      "Epoch 58/750\n",
      "42/42 [==============================] - 2s 45ms/step - loss: 0.0013 - val_loss: 0.0125\n",
      "Epoch 59/750\n",
      "42/42 [==============================] - 2s 45ms/step - loss: 0.0010 - val_loss: 0.0088\n",
      "Epoch 60/750\n",
      "42/42 [==============================] - 2s 45ms/step - loss: 0.0012 - val_loss: 0.0079\n",
      "Epoch 61/750\n",
      "42/42 [==============================] - 2s 44ms/step - loss: 0.0012 - val_loss: 0.0058\n",
      "Epoch 62/750\n",
      "42/42 [==============================] - 2s 45ms/step - loss: 0.0016 - val_loss: 0.0164\n",
      "Epoch 63/750\n",
      "42/42 [==============================] - 2s 49ms/step - loss: 0.0014 - val_loss: 0.0085\n",
      "Epoch 64/750\n",
      "42/42 [==============================] - 2s 43ms/step - loss: 0.0013 - val_loss: 0.0140\n",
      "Epoch 65/750\n",
      "42/42 [==============================] - 2s 44ms/step - loss: 0.0011 - val_loss: 0.0071\n",
      "Epoch 66/750\n",
      "42/42 [==============================] - 2s 44ms/step - loss: 9.9509e-04 - val_loss: 0.0166\n",
      "Epoch 67/750\n",
      "42/42 [==============================] - 2s 45ms/step - loss: 0.0012 - val_loss: 0.0095\n",
      "Epoch 68/750\n",
      "42/42 [==============================] - 2s 44ms/step - loss: 0.0011 - val_loss: 0.0091\n",
      "Epoch 69/750\n",
      "42/42 [==============================] - 2s 46ms/step - loss: 0.0011 - val_loss: 0.0107\n",
      "Epoch 70/750\n",
      "42/42 [==============================] - 2s 44ms/step - loss: 0.0011 - val_loss: 0.0183\n",
      "Epoch 71/750\n",
      "42/42 [==============================] - 2s 45ms/step - loss: 0.0011 - val_loss: 0.0074\n",
      "Epoch 72/750\n",
      "42/42 [==============================] - 2s 45ms/step - loss: 0.0011 - val_loss: 0.0100\n",
      "Epoch 73/750\n",
      "42/42 [==============================] - 2s 43ms/step - loss: 0.0011 - val_loss: 0.0075\n",
      "Epoch 74/750\n",
      "42/42 [==============================] - 2s 46ms/step - loss: 0.0010 - val_loss: 0.0080\n",
      "Epoch 75/750\n",
      "42/42 [==============================] - 2s 44ms/step - loss: 0.0011 - val_loss: 0.0092\n",
      "Epoch 76/750\n",
      "42/42 [==============================] - 2s 44ms/step - loss: 0.0012 - val_loss: 0.0197\n",
      "Epoch 77/750\n",
      "42/42 [==============================] - 2s 43ms/step - loss: 0.0016 - val_loss: 0.0079\n",
      "Epoch 78/750\n",
      "42/42 [==============================] - 2s 43ms/step - loss: 0.0012 - val_loss: 0.0158\n",
      "Epoch 79/750\n",
      "42/42 [==============================] - 2s 44ms/step - loss: 0.0012 - val_loss: 0.0059\n",
      "Epoch 80/750\n",
      "42/42 [==============================] - 2s 44ms/step - loss: 0.0010 - val_loss: 0.0054\n",
      "Epoch 81/750\n",
      "42/42 [==============================] - 2s 44ms/step - loss: 9.8776e-04 - val_loss: 0.0087\n",
      "Epoch 82/750\n",
      "42/42 [==============================] - 2s 43ms/step - loss: 0.0013 - val_loss: 0.0147\n",
      "Epoch 00082: early stopping\n"
     ]
    }
   ],
   "source": [
    "# Fitting the RNN to the Training set\n",
    "res = regressor.fit(X_train, y_train\n",
    "                    , batch_size=32\n",
    "                    , epochs=750\n",
    "                    , validation_split=0.1\n",
    "                    , callbacks=[early_stop]\n",
    "                   )"
   ]
  },
  {
   "cell_type": "code",
   "execution_count": 211,
   "metadata": {},
   "outputs": [
    {
     "data": {
      "image/png": "[encoded data removed]",
      "text/plain": [
       "<Figure size 864x288 with 1 Axes>"
      ]
     },
     "metadata": {
      "needs_background": "light"
     },
     "output_type": "display_data"
    }
   ],
   "source": [
    "# Plotting Loss/MSE\n",
    "\n",
    "results = res\n",
    "\n",
    "history = results.history\n",
    "plt.figure(figsize=(12,4))\n",
    "plt.plot(history['val_loss'])\n",
    "plt.plot(history['loss'])\n",
    "plt.legend(['val_loss', 'loss'])\n",
    "plt.title('Loss')\n",
    "plt.xlabel('Epochs')\n",
    "plt.ylabel('Loss')\n",
    "plt.show()"
   ]
  },
  {
   "cell_type": "code",
   "execution_count": 212,
   "metadata": {},
   "outputs": [],
   "source": [
    "def dummy_invscaler(y, n_features):\n",
    "    '''\n",
    "    Since the scaler was trained into 2 features, it needs two features to perform the inverse scaleer.\n",
    "    For that purpose, this function will create a dummy array and concatenate it to the y_pred/y_true.\n",
    "    That dummy of ones will be drop after performing the inverse_transform.\n",
    "    INPUTS: array 'y', shape (X,)\n",
    "    '''\n",
    "    y = np.array(y).reshape(-1,1)\n",
    "    if n_features>1:\n",
    "        dummy = np.ones((len(y), n_features-1))\n",
    "        y = np.concatenate((y, dummy), axis=1)\n",
    "        y = sc.inverse_transform(y)\n",
    "        y = y[:,0]\n",
    "    else:\n",
    "        y = sc.inverse_transform(y)\n",
    "    return y"
   ]
  },
  {
   "cell_type": "code",
   "execution_count": 215,
   "metadata": {},
   "outputs": [
    {
     "name": "stdout",
     "output_type": "stream",
     "text": [
      "y_pred:\n",
      " 43496.857113205304\n",
      "y_true:\n",
      " 51726.71875\n"
     ]
    },
    {
     "data": {
      "text/plain": [
       "\"\\n# plotting the results\\nplt.figure(figsize=(16,5))\\nplt.plot(y_pred_df, label='Predicted')\\nplt.plot(y_true_df, label='True')\\n\\nplt.title('BTC price Predicted vs True')\\nplt.legend()\\nplt.show()\""
      ]
     },
     "execution_count": 215,
     "metadata": {},
     "output_type": "execute_result"
    }
   ],
   "source": [
    "# Validation\n",
    "# getting the predictions\n",
    "y_pred = regressor.predict(X_train[-1].reshape(1, n_past, n_features)).tolist()[0]\n",
    "y_pred = dummy_invscaler(y_pred, n_features)\n",
    "\n",
    "\"\"\"# creating a DF of the predicted prices\n",
    "y_pred_df = pd.DataFrame(y_pred, \n",
    "                         index=df[['Close']].tail(n_future).index, \n",
    "                         columns=df[['Close']].columns)\"\"\"\n",
    "\n",
    "# getting the true values\n",
    "y_true_df = df[['Close']].tail(n_past)\n",
    "y_true = y_true_df.tail(n_future).values\n",
    "\n",
    "print('y_pred:\\n', y_pred [0])\n",
    "print('y_true:\\n', y_true[0][0])\n",
    "\n",
    "\n",
    "\n",
    "# The bellow commented code is used to create a graph of the predicted values vs the actual values\n",
    "# It is used only if we predict more than one values\n",
    "\"\"\"\n",
    "# plotting the results\n",
    "plt.figure(figsize=(16,5))\n",
    "plt.plot(y_pred_df, label='Predicted')\n",
    "plt.plot(y_true_df, label='True')\n",
    "\n",
    "plt.title('BTC price Predicted vs True')\n",
    "plt.legend()\n",
    "plt.show()\"\"\""
   ]
  }
 ],
 "metadata": {
  "kernelspec": {
   "display_name": "Python 3 (ipykernel)",
   "language": "python",
   "name": "python3"
  },
  "language_info": {
   "codemirror_mode": {
    "name": "ipython",
    "version": 3
   },
   "file_extension": ".py",
   "mimetype": "text/x-python",
   "name": "python",
   "nbconvert_exporter": "python",
   "pygments_lexer": "ipython3",
   "version": "3.9.0"
  }
 },
 "nbformat": 4,
 "nbformat_minor": 2
}
